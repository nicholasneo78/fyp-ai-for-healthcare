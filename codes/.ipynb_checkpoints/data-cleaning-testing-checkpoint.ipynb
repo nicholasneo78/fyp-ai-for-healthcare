{
 "cells": [
  {
   "cell_type": "code",
   "execution_count": 138,
   "id": "e1a4230a",
   "metadata": {},
   "outputs": [
    {
     "name": "stderr",
     "output_type": "stream",
     "text": [
      "[nltk_data] Downloading package wordnet to\n",
      "[nltk_data]     C:\\Users\\nicholasneo78\\AppData\\Roaming\\nltk_data...\n",
      "[nltk_data]   Package wordnet is already up-to-date!\n"
     ]
    },
    {
     "data": {
      "text/plain": [
       "'word'"
      ]
     },
     "execution_count": 138,
     "metadata": {},
     "output_type": "execute_result"
    }
   ],
   "source": [
    "import pandas as pd\n",
    "import numpy as np\n",
    "import re\n",
    "from tqdm import tqdm\n",
    "import preprocessor as p # tweet-preprocessor\n",
    "import cleantext\n",
    "from autocorrect import Speller\n",
    "import nltk\n",
    "nltk.download('wordnet')\n",
    "nltk.stem.WordNetLemmatizer().lemmatize('word')"
   ]
  },
  {
   "cell_type": "code",
   "execution_count": null,
   "id": "7a6f8062",
   "metadata": {},
   "outputs": [],
   "source": []
  },
  {
   "cell_type": "code",
   "execution_count": 30,
   "id": "1314792d",
   "metadata": {},
   "outputs": [
    {
     "data": {
      "text/html": [
       "<div>\n",
       "<style scoped>\n",
       "    .dataframe tbody tr th:only-of-type {\n",
       "        vertical-align: middle;\n",
       "    }\n",
       "\n",
       "    .dataframe tbody tr th {\n",
       "        vertical-align: top;\n",
       "    }\n",
       "\n",
       "    .dataframe thead th {\n",
       "        text-align: right;\n",
       "    }\n",
       "</style>\n",
       "<table border=\"1\" class=\"dataframe\">\n",
       "  <thead>\n",
       "    <tr style=\"text-align: right;\">\n",
       "      <th></th>\n",
       "      <th>Text</th>\n",
       "      <th>Label</th>\n",
       "    </tr>\n",
       "  </thead>\n",
       "  <tbody>\n",
       "    <tr>\n",
       "      <th>0</th>\n",
       "      <td>Thoughts on multi-family and multi-generationa...</td>\n",
       "      <td>0</td>\n",
       "    </tr>\n",
       "    <tr>\n",
       "      <th>1</th>\n",
       "      <td>God \"God moves towards those who need him the ...</td>\n",
       "      <td>1</td>\n",
       "    </tr>\n",
       "    <tr>\n",
       "      <th>2</th>\n",
       "      <td>yah.sorry i didnt write anything in the past ...</td>\n",
       "      <td>0</td>\n",
       "    </tr>\n",
       "    <tr>\n",
       "      <th>3</th>\n",
       "      <td>I am a 40 year old mother of two; ages 14 and ...</td>\n",
       "      <td>1</td>\n",
       "    </tr>\n",
       "    <tr>\n",
       "      <th>4</th>\n",
       "      <td>I find myself hating birthdays and Christmas n...</td>\n",
       "      <td>1</td>\n",
       "    </tr>\n",
       "    <tr>\n",
       "      <th>5</th>\n",
       "      <td>Found 2 dating apps on my married dads phone 4...</td>\n",
       "      <td>0</td>\n",
       "    </tr>\n",
       "    <tr>\n",
       "      <th>6</th>\n",
       "      <td>Ancestry.com - is it safe? Hello!: )  I'm a ne...</td>\n",
       "      <td>0</td>\n",
       "    </tr>\n",
       "    <tr>\n",
       "      <th>7</th>\n",
       "      <td>I feel so lost Hi. I'm 15 year old girl from I...</td>\n",
       "      <td>1</td>\n",
       "    </tr>\n",
       "    <tr>\n",
       "      <th>8</th>\n",
       "      <td>So we have 6 1/2 days left of school. I can't...</td>\n",
       "      <td>0</td>\n",
       "    </tr>\n",
       "    <tr>\n",
       "      <th>9</th>\n",
       "      <td>What's wrong with my dad and what should I do ...</td>\n",
       "      <td>0</td>\n",
       "    </tr>\n",
       "  </tbody>\n",
       "</table>\n",
       "</div>"
      ],
      "text/plain": [
       "                                                Text  Label\n",
       "0  Thoughts on multi-family and multi-generationa...      0\n",
       "1  God \"God moves towards those who need him the ...      1\n",
       "2   yah.sorry i didnt write anything in the past ...      0\n",
       "3  I am a 40 year old mother of two; ages 14 and ...      1\n",
       "4  I find myself hating birthdays and Christmas n...      1\n",
       "5  Found 2 dating apps on my married dads phone 4...      0\n",
       "6  Ancestry.com - is it safe? Hello!: )  I'm a ne...      0\n",
       "7  I feel so lost Hi. I'm 15 year old girl from I...      1\n",
       "8   So we have 6 1/2 days left of school. I can't...      0\n",
       "9  What's wrong with my dad and what should I do ...      0"
      ]
     },
     "execution_count": 30,
     "metadata": {},
     "output_type": "execute_result"
    }
   ],
   "source": [
    "# load dataset first\n",
    "long_data = pd.read_csv(\"./data/long_text_combined.csv\")\n",
    "long_data.head(10)"
   ]
  },
  {
   "cell_type": "code",
   "execution_count": 38,
   "id": "e1cc04b3",
   "metadata": {},
   "outputs": [
    {
     "data": {
      "text/plain": [
       "0       Thoughts on multi-family and multi-generationa...\n",
       "1       God \"God moves towards those who need him the ...\n",
       "2        yah.sorry i didnt write anything in the past ...\n",
       "3       I am a 40 year old mother of two; ages 14 and ...\n",
       "4       I find myself hating birthdays and Christmas n...\n",
       "                              ...                        \n",
       "2724     SUMMER SUCKS!  I know, I know...*my* opinion....\n",
       "2725    i can’t sleep i’ve been planning for my suicid...\n",
       "2726    How can I help my husband? My husband is an en...\n",
       "2727    Dude I do the right thing to have my sister on...\n",
       "2728    Why does it feel like I want to be depressed? ...\n",
       "Name: Text, Length: 2729, dtype: object"
      ]
     },
     "execution_count": 38,
     "metadata": {},
     "output_type": "execute_result"
    }
   ],
   "source": [
    "long_data['Text']"
   ]
  },
  {
   "cell_type": "code",
   "execution_count": null,
   "id": "6dee8ddc",
   "metadata": {},
   "outputs": [],
   "source": []
  },
  {
   "cell_type": "markdown",
   "id": "ffe458d1",
   "metadata": {},
   "source": [
    "- using general rule-based matching to expand contractions\n",
    "- using tweet-preprocessor to remove url, mention, reserved words, emoji, smiley and number\n",
    "- do not remove hashtag words, instead just remove the hash using regex\n",
    "- using cleantext to remove extra spaces and stopwords, do lowercase, and remove punctuations.  (hashtag remove in this stage)\n",
    "- keep only alphabets reg = re.compile(r'({})|[^a-zA-Z']'.format(emoji_pat)) # line a\n",
    "- repeating characters occurred more than twice, using Regex\n",
    "    - \"Helllllo Programmmmmmmmmmmmmmmers\".replace(/(.)\\1{2,}/g, '$1$1')\n",
    "    - This is in javascript\n",
    "- using autocorrect to edit spelling error\n",
    "- lemmatization"
   ]
  },
  {
   "cell_type": "code",
   "execution_count": null,
   "id": "dfa52596",
   "metadata": {},
   "outputs": [],
   "source": []
  },
  {
   "cell_type": "code",
   "execution_count": 131,
   "id": "36e799d1",
   "metadata": {
    "scrolled": true
   },
   "outputs": [
    {
     "name": "stdout",
     "output_type": "stream",
     "text": [
      "Thoughts on multi-family and multi-generational households and family disagreements Basically, I married into a Filipino family, and my MIL owns a fairly large chunk of farmland. She routinely expresses a desire for \"all of us\" (myself, my wife, our two kids, my sister-in-law and her husband, my brother-in-law, his wife, and his kid) to build a large house with a large living area. Each of us (read: each family) would get our own rooms, everyone would live together, and we would all be one big happy family.  Except, not. I have a number of reasons for saying \"absolutely not\". Maybe it is my POV as someone that was raised in America, but I value independence and privacy. I want my own life, and my wife feels the same. Having family involved in everything you do, always having your kids being compared to other kids in the family, and always being treated like a child just sounds like hell. Not having the freedom to have sex or even choose what to have for dinner sounds like hell. No thanks.  It is be really easy if her MIL was not a good person, but she is probably the most kindhearted person I have ever met. She is always there to help us out, financially or if we need anything else. We are there for her the best we can, too, of course. So it feels really bad to turn it down, especially since I understand enough about her culture to know that this would feel like a slap in the face. And there is the financial aspect, since the land is already family-owned. Acting disinterested does not work.   Anyone else have family that has tried this?\n",
      "God \"God moves towards those who need him the most and those who are emotionally broken\" Really ? Well where the fuck has he been for the past three years in my life? I am tired of asking God to make me feel less depressed and never getting an answer. I guess he does not give a shit about me, but that is okay, because now I do not give a shit about him either. \n",
      " yah.sorry i didnt write anything in the past week. was quite busy. yah. my birthday was on mon and i am officially 14. yah. haha. i cant wait till next year.then i will be 15. tts quite crap right.haha. haha. i had alot of crap homework today. all subs also have. sigh. i am so dead. tommorrow is the deadline for me hols homework and i havent finished. haha. at least i have something to look forward to. ym meeting too is at 4. i guess i shall finish it during that long boring period. home econs is tommorrow too, its sucks. i never liked cooking, only eating. thats shitty. sigh. my blog is dammn lousy. i have no idea what to do with it. sigh. \n",
      "I am a 40 year old mother of two; ages 14 and 4. I guess I have been depressed about everything more recently, but have been really depressed for about 5 + years now. I thought bringing a new child into my life 4 years ago would help, but it only increased. I am so lonely, with no friends (well, one) since I moved to upper New York 4 1/2 years ago from Pittsburgh, Pennsylvania. I love my children, and my 21 hour job (that my doctor suggested). However, I do get to talk (chat) with anyone. I get every morning thinking that this day will be better, but it turns out to be sometimes worst than the day before ..... I guess, I am writing this to gain some friends, and feel that I am not alone in this situations I feel I am into .... I do not drink, I do not do drugs, and I take my prescribed Medications like I am suppose too ..... Is there anyone out there that would like to talk, or write, or e-mail me?\n",
      "I find myself hating birthdays and Christmas now Those are the times when you are surrounded by friends and feel loved. I do not get that so I find myself starting to hate it.  And I feel bad about feeling this way? I feel bad that I am the one who  cannot seem to smile and laugh when everyone else around me can do it just fine.   I feel bad that I am the one at school that is known for never smiling. That must be why no one tries to talk to me. \n"
     ]
    }
   ],
   "source": [
    "# https://en.wikipedia.org/wiki/Wikipedia%3aList_of_English_contractions\n",
    "# remove contractions\n",
    "def contraction_removal(phrase):\n",
    "    # replace bad characters\n",
    "    phrase = phrase.replace(u'’', u\"'\")\n",
    "    phrase = phrase.replace(u'‘', u\"'\")\n",
    "    # more specific change\n",
    "    phrase = re.sub(r\"won\\'t\", \" will not\", phrase)\n",
    "    phrase = re.sub(r\"can\\'t\", \" cannot\", phrase)\n",
    "    phrase = re.sub(r\"shan\\'t\", \" shall not\", phrase)\n",
    "    phrase = re.sub(r\"I ain\\t\", \" I am not\", phrase)\n",
    "    phrase = re.sub(r\"i ain\\t\", \" I am not\", phrase)\n",
    "    phrase = re.sub(r\"She ain\\t\", \" she is not\", phrase)\n",
    "    phrase = re.sub(r\"He ain\\t\", \" he is not\", phrase)\n",
    "    phrase = re.sub(r\"he ain\\t\", \" he am not\", phrase)\n",
    "\n",
    "    # general\n",
    "    phrase = re.sub(r\"n\\'t\", \" not\", phrase)\n",
    "    phrase = re.sub(r\"\\'re\", \" are\", phrase)\n",
    "    phrase = re.sub(r\"\\'s\", \" is\", phrase)\n",
    "    phrase = re.sub(r\"\\'d\", \" would\", phrase)\n",
    "    phrase = re.sub(r\"\\'ll\", \" will\", phrase)\n",
    "    phrase = re.sub(r\"\\'t\", \" not\", phrase)\n",
    "    phrase = re.sub(r\"\\'ve\", \" have\", phrase)\n",
    "    phrase = re.sub(r\"\\'m\", \" am\", phrase)\n",
    "    return phrase\n",
    "\n",
    "for i in long_data['Text'][:5]:\n",
    "    print(contraction_removal(i))"
   ]
  },
  {
   "cell_type": "code",
   "execution_count": 83,
   "id": "cb96bf40",
   "metadata": {},
   "outputs": [],
   "source": [
    "# remove url, mention, reserved words, emoji, smiley and number\n",
    "# using tweet preprocessor library here\n",
    "def tweet_preprocessor(text, config):\n",
    "    if config == 'deep_clean' || config == 'ecpe':\n",
    "        p.set_options(p.OPT.URL, p.OPT.MENTION, p.OPT.EMOJI, p.OPT.RESERVED, p.OPT.SMILEY)\n",
    "    elif config == 'vader' || config == 't2e':\n",
    "        p.set_options(p.OPT.URL, p.OPT.MENTION, p.OPT.RESERVED, p.OPT.SMILEY)\n",
    "    text = p.clean(text)\n",
    "    # remove the url starting with www\n",
    "    text = re.sub(r\"\\bwww.\\w+\", \"\", text)\n",
    "    # just remove hashtag (not the whole hashtag and words)\n",
    "    text = re.sub(r\"#\", \" \", text)\n",
    "    return text"
   ]
  },
  {
   "cell_type": "code",
   "execution_count": 124,
   "id": "2be4ea4f",
   "metadata": {
    "scrolled": true
   },
   "outputs": [
    {
     "name": "stdout",
     "output_type": "stream",
     "text": [
      "Thoughts on multi-family and multi-generational households and family disagreements Basically, I married into a Filipino family, and my MIL owns a fairly large chunk of farmland. She routinely expresses a desire for \"all of us\" (myself, my wife, our two kids, my sister-in-law and her husband, my brother-in-law, his wife, and his kid) to build a large house with a large living area. Each of us (read: each family) would get our own rooms, everyone would live together, and we'd all be one big happy family. Except, not. I have a number of reasons for saying \"absolutely not\". Maybe it's my POV as someone that was raised in America, but I value independence and privacy. I want my own life, and my wife feels the same. Having family involved in everything you do, always having your kids being compared to other kids in the family, and always being treated like a child just sounds like hell. Not having the freedom to have sex or even choose what to have for dinner sounds like hell. No thanks. It's be really easy if her MIL wasn't a good person, but she is probably the most kindhearted person I've ever met. She's always there to help us out, financially or if we need anything else. We're there for her the best we can, too, of course. So it feels really bad to turn it down, especially since I understand enough about her culture to know that this would feel like a slap in the face. And there's the financial aspect, since the land is already family-owned. Acting disinterested doesn't work. Anyone else have family that has tried this?\n",
      "God \"God moves towards those who need him the most and those who are emotionally broken\" Really ? Well where the fuck has he been for the past three years in my life? I am tired of asking God to make me feel less depressed and never getting an answer. I guess he doesn't give a shit about me, but that's okay, because now I don't give a shit about him either.\n",
      "yah.sorry i didnt write anything in the past week. was quite busy. yah. my birthday was on mon and i am officially 14. yah. haha. i cant wait till next year.then i'll be 15. tts quite crap right.haha. haha. i had alot of crap homework today. all subs also have. sigh. i am so dead. tommorrow is the deadline for me hols homework and i havent finished. haha. at least i have something to look forward to. ym meeting too is at 4. i guess i shall finish it during that long boring period. home econs is tommorrow too, its sucks. i never liked cooking, only eating. thats shitty. sigh. my blog is dammn lousy. i have no idea what to do with it. sigh.\n",
      "I am a 40 year old mother of two; ages 14 and 4. I guess I have been depressed about everything more recently, but have been really depressed for about 5 + years now. I thought bringing a new child into my life 4 years ago would help, but it only increased. I am so lonely, with no friends (well, one) since I moved to upper New York 4 1/2 years ago from Pittsburgh, Pennsylvania. I love my children, and my 21 hour job (that my doctor suggested). However, I do get to talk (chat) with anyone. I get every morning thinking that this day will be better, but it turns out to be sometimes worst than the day before ..... I guess, I am writing this to gain some friends, and feel that I am not alone in this situations I feel I am into .... I don't drink, I don't do drugs, and I take my prescribed Medications like I am suppose too ..... Is there anyone out there that would like to talk, or write, or e-mail me?\n",
      "I find myself hating birthdays and Christmas now Those are the times when youre surrounded by friends and feel loved. I dont get that so I find myself starting to hate it. And I feel bad about feeling this way? I feel bad that Im the one who cant seem to smile and laugh when everyone else around me can do it just fine. I feel bad that Im the one at school thats known for never smiling. That must be why no one tries to talk to me.\n"
     ]
    }
   ],
   "source": [
    "for i in long_data['Text'][:5]:\n",
    "    print(tweet_preprocessor(i, 'deep_clean'))"
   ]
  },
  {
   "cell_type": "code",
   "execution_count": 134,
   "id": "3b7a660c",
   "metadata": {},
   "outputs": [],
   "source": [
    "# remove extra spaces and stopwords, do lowercase, and remove punctuations.\n",
    "def clean_text(text, removeLower=True, removeNumbers=True, removePunct=True, removeExtraSpace=True):\n",
    "    text = cleantext.clean(text, \n",
    "                    lowercase=removeLower, \n",
    "                    numbers=removeNumbers, \n",
    "                    punct=removePunct,\n",
    "                    extra_spaces=removeExtraSpace)\n",
    "    return text"
   ]
  },
  {
   "cell_type": "code",
   "execution_count": 135,
   "id": "e7ea07f9",
   "metadata": {
    "scrolled": true
   },
   "outputs": [
    {
     "name": "stdout",
     "output_type": "stream",
     "text": [
      "thoughts on multifamily and multigenerational households and family disagreements basically i married into a filipino family and my mil owns a fairly large chunk of farmland she routinely expresses a desire for all of us myself my wife our two kids my sisterinlaw and her husband my brotherinlaw his wife and his kid to build a large house with a large living area each of us read each family would get our own rooms everyone would live together and wed all be one big happy family except not i have a number of reasons for saying absolutely not maybe its my pov as someone that was raised in america but i value independence and privacy i want my own life and my wife feels the same having family involved in everything you do always having your kids being compared to other kids in the family and always being treated like a child just sounds like hell not having the freedom to have sex or even choose what to have for dinner sounds like hell no thanks its be really easy if her mil wasnt a good person but she is probably the most kindhearted person ive ever met shes always there to help us out financially or if we need anything else were there for her the best we can too of course so it feels really bad to turn it down especially since i understand enough about her culture to know that this would feel like a slap in the face and theres the financial aspect since the land is already familyowned acting disinterested doesnt work anyone else have family that has tried this\n",
      "god god moves towards those who need him the most and those who are emotionally broken really  well where the fuck has he been for the past three years in my life i am tired of asking god to make me feel less depressed and never getting an answer i guess he doesnt give a shit about me but thats okay because now i dont give a shit about him either\n",
      "yahsorry i didnt write anything in the past week was quite busy yah my birthday was on mon and i am officially  yah haha i cant wait till next yearthen ill be  tts quite crap righthaha haha i had alot of crap homework today all subs also have sigh i am so dead tommorrow is the deadline for me hols homework and i havent finished haha at least i have something to look forward to ym meeting too is at  i guess i shall finish it during that long boring period home econs is tommorrow too its sucks i never liked cooking only eating thats shitty sigh my blog is dammn lousy i have no idea what to do with it sigh\n",
      "i am a  year old mother of two ages  and  i guess i have been depressed about everything more recently but have been really depressed for about   years now i thought bringing a new child into my life  years ago would help but it only increased i am so lonely with no friends well one since i moved to upper new york   years ago from pittsburgh pennsylvania i love my children and my  hour job that my doctor suggested however i do get to talk chat with anyone i get every morning thinking that this day will be better but it turns out to be sometimes worst than the day before  i guess i am writing this to gain some friends and feel that i am not alone in this situations i feel i am into  i dont drink i dont do drugs and i take my prescribed medications like i am suppose too  is there anyone out there that would like to talk or write or email me\n",
      "i find myself hating birthdays and christmas now those are the times when you’re surrounded by friends and feel loved i don’t get that so i find myself starting to hate it and i feel bad about feeling this way i feel bad that i’m the one who can’t seem to smile and laugh when everyone else around me can do it just fine i feel bad that i’m the one at school that’s known for never smiling that must be why no one tries to talk to me\n"
     ]
    }
   ],
   "source": [
    "for i in long_data['Text'][:5]:\n",
    "    print(clean_text(i))"
   ]
  },
  {
   "cell_type": "code",
   "execution_count": 129,
   "id": "b70fb115",
   "metadata": {},
   "outputs": [],
   "source": [
    "# keep only alphabets (only for deep clean)\n",
    "def keep_alphabet_only(text):\n",
    "    return re.sub('[^a-zA-Z- ]+', '', text)"
   ]
  },
  {
   "cell_type": "code",
   "execution_count": 130,
   "id": "7ed3bfdc",
   "metadata": {
    "scrolled": true
   },
   "outputs": [
    {
     "name": "stdout",
     "output_type": "stream",
     "text": [
      "Thoughts on multi-family and multi-generational households and family disagreements Basically I married into a Filipino family and my MIL owns a fairly large chunk of farmland She routinely expresses a desire for all of us myself my wife our two kids my sister-in-law and her husband my brother-in-law his wife and his kid to build a large house with a large living area Each of us read each family would get our own rooms everyone would live together and wed all be one big happy family  Except not I have a number of reasons for saying absolutely not Maybe its my POV as someone that was raised in America but I value independence and privacy I want my own life and my wife feels the same Having family involved in everything you do always having your kids being compared to other kids in the family and always being treated like a child just sounds like hell Not having the freedom to have sex or even choose what to have for dinner sounds like hell No thanks  Its be really easy if her MIL wasnt a good person but she is probably the most kindhearted person Ive ever met Shes always there to help us out financially or if we need anything else Were there for her the best we can too of course So it feels really bad to turn it down especially since I understand enough about her culture to know that this would feel like a slap in the face And theres the financial aspect since the land is already family-owned Acting disinterested doesnt work   Anyone else have family that has tried this\n",
      "God God moves towards those who need him the most and those who are emotionally broken Really  Well where the fuck has he been for the past three years in my life I am tired of asking God to make me feel less depressed and never getting an answer I guess he doesnt give a shit about me but thats okay because now I dont give a shit about him either \n",
      " yahsorry i didnt write anything in the past week was quite busy yah my birthday was on mon and i am officially  yah haha i cant wait till next yearthen ill be  tts quite crap righthaha haha i had alot of crap homework today all subs also have sigh i am so dead tommorrow is the deadline for me hols homework and i havent finished haha at least i have something to look forward to ym meeting too is at  i guess i shall finish it during that long boring period home econs is tommorrow too its sucks i never liked cooking only eating thats shitty sigh my blog is dammn lousy i have no idea what to do with it sigh \n",
      "I am a  year old mother of two ages  and  I guess I have been depressed about everything more recently but have been really depressed for about   years now I thought bringing a new child into my life  years ago would help but it only increased I am so lonely with no friends well one since I moved to upper New York   years ago from Pittsburgh Pennsylvania I love my children and my  hour job that my doctor suggested However I do get to talk chat with anyone I get every morning thinking that this day will be better but it turns out to be sometimes worst than the day before  I guess I am writing this to gain some friends and feel that I am not alone in this situations I feel I am into  I dont drink I dont do drugs and I take my prescribed Medications like I am suppose too  Is there anyone out there that would like to talk or write or e-mail me\n",
      "I find myself hating birthdays and Christmas now Those are the times when youre surrounded by friends and feel loved I dont get that so I find myself starting to hate it  And I feel bad about feeling this way I feel bad that Im the one who cant seem to smile and laugh when everyone else around me can do it just fine   I feel bad that Im the one at school thats known for never smiling That must be why no one tries to talk to me \n"
     ]
    }
   ],
   "source": [
    "for i in long_data['Text'][:5]:\n",
    "    print(keep_alphabet_only(i))"
   ]
  },
  {
   "cell_type": "code",
   "execution_count": null,
   "id": "322e9c8c",
   "metadata": {},
   "outputs": [],
   "source": []
  },
  {
   "cell_type": "code",
   "execution_count": 111,
   "id": "4b185259",
   "metadata": {},
   "outputs": [],
   "source": [
    "# eliminate letters who appeared more than twice in the text\n",
    "def eliminate_multi_letters(text):\n",
    "    return re.sub(r'(.)\\1{2,}', r'\\1\\1', text)"
   ]
  },
  {
   "cell_type": "code",
   "execution_count": 110,
   "id": "105dc6a5",
   "metadata": {},
   "outputs": [
    {
     "data": {
      "text/plain": [
       "'Hello Programmers'"
      ]
     },
     "execution_count": 110,
     "metadata": {},
     "output_type": "execute_result"
    }
   ],
   "source": [
    "answer = re.sub(r'(.)\\1{2,}', r'\\1\\1', 'Helllllo Programmmmmmmmmmmmmmmers')\n",
    "answer"
   ]
  },
  {
   "cell_type": "code",
   "execution_count": 121,
   "id": "89bef497",
   "metadata": {
    "scrolled": true
   },
   "outputs": [
    {
     "name": "stdout",
     "output_type": "stream",
     "text": [
      "Thoughts on multi-family and multi-generational households and family disagreements Basically, I married into a Filipino family, and my MIL owns a fairly large chunk of farmland. She routinely expresses a desire for \"all of us\" (myself, my wife, our two kids, my sister-in-law and her husband, my brother-in-law, his wife, and his kid) to build a large house with a large living area. Each of us (read: each family) would get our own rooms, everyone would live together, and we'd all be one big happy family.  Except, not. I have a number of reasons for saying \"absolutely not\". Maybe it's my POV as someone that was raised in America, but I value independence and privacy. I want my own life, and my wife feels the same. Having family involved in everything you do, always having your kids being compared to other kids in the family, and always being treated like a child just sounds like hell. Not having the freedom to have sex or even choose what to have for dinner sounds like hell. No thanks.  It's be really easy if her MIL wasn't a good person, but she is probably the most kindhearted person I've ever met. She's always there to help us out, financially or if we need anything else. We're there for her the best we can, too, of course. So it feels really bad to turn it down, especially since I understand enough about her culture to know that this would feel like a slap in the face. And there's the financial aspect, since the land is already family-owned. Acting disinterested doesn't work.  Anyone else have family that has tried this?\n",
      "God \"God moves towards those who need him the most and those who are emotionally broken\" Really ? Well where the fuck has he been for the past three years in my life? I am tired of asking God to make me feel less depressed and never getting an answer. I guess he doesn't give a shit about me, but that's okay, because now I don't give a shit about him either. \n",
      " yah.sorry i didnt write anything in the past week. was quite busy. yah. my birthday was on mon and i am officially 14. yah. haha. i cant wait till next year.then i'll be 15. tts quite crap right.haha. haha. i had alot of crap homework today. all subs also have. sigh. i am so dead. tommorrow is the deadline for me hols homework and i havent finished. haha. at least i have something to look forward to. ym meeting too is at 4. i guess i shall finish it during that long boring period. home econs is tommorrow too, its sucks. i never liked cooking, only eating. thats shitty. sigh. my blog is dammn lousy. i have no idea what to do with it. sigh. \n",
      "I am a 40 year old mother of two; ages 14 and 4. I guess I have been depressed about everything more recently, but have been really depressed for about 5 + years now. I thought bringing a new child into my life 4 years ago would help, but it only increased. I am so lonely, with no friends (well, one) since I moved to upper New York 4 1/2 years ago from Pittsburgh, Pennsylvania. I love my children, and my 21 hour job (that my doctor suggested). However, I do get to talk (chat) with anyone. I get every morning thinking that this day will be better, but it turns out to be sometimes worst than the day before .. I guess, I am writing this to gain some friends, and feel that I am not alone in this situations I feel I am into .. I don't drink, I don't do drugs, and I take my prescribed Medications like I am suppose too .. Is there anyone out there that would like to talk, or write, or e-mail me?\n",
      "I find myself hating birthdays and Christmas now Those are the times when you’re surrounded by friends and feel loved. I don’t get that so I find myself starting to hate it.  And I feel bad about feeling this way? I feel bad that I’m the one who can’t seem to smile and laugh when everyone else around me can do it just fine.  I feel bad that I’m the one at school that’s known for never smiling. That must be why no one tries to talk to me. \n"
     ]
    }
   ],
   "source": [
    "for i in long_data['Text'][:5]:\n",
    "    print(eliminate_multi_letters(i))"
   ]
  },
  {
   "cell_type": "code",
   "execution_count": null,
   "id": "a476c2de",
   "metadata": {},
   "outputs": [],
   "source": []
  },
  {
   "cell_type": "code",
   "execution_count": 113,
   "id": "1eb8bc1f",
   "metadata": {},
   "outputs": [],
   "source": [
    "# autocorrect to fix spelling errors\n",
    "spell = Speller()\n",
    "def autocorrect(text):\n",
    "    return spell(text)"
   ]
  },
  {
   "cell_type": "code",
   "execution_count": 120,
   "id": "5cfc0bef",
   "metadata": {
    "scrolled": true
   },
   "outputs": [
    {
     "name": "stdout",
     "output_type": "stream",
     "text": [
      "Thoughts on multi-family and multi-generational households and family disagreements Basically, I married into a Filipino family, and my MIL owns a fairly large chunk of farmland. She routinely expresses a desire for \"all of us\" (myself, my wife, our two kids, my sister-in-law and her husband, my brother-in-law, his wife, and his kid) to build a large house with a large living area. Each of us (read: each family) would get our own rooms, everyone would live together, and we'd all be one big happy family.  Except, not. I have a number of reasons for saying \"absolutely not\". Maybe it's my POV as someone that was raised in America, but I value independence and privacy. I want my own life, and my wife feels the same. Having family involved in everything you do, always having your kids being compared to other kids in the family, and always being treated like a child just sounds like hell. Not having the freedom to have sex or even choose what to have for dinner sounds like hell. No thanks.  It's be really easy if her MIL wasn't a good person, but she is probably the most kindhearted person I've ever met. She's always there to help us out, financially or if we need anything else. We're there for her the best we can, too, of course. So it feels really bad to turn it down, especially since I understand enough about her culture to know that this would feel like a slap in the face. And there's the financial aspect, since the land is already family-owned. Acting disinterested doesn't work.  Anyone else have family that has tried this?\n",
      "God \"God moves towards those who need him the most and those who are emotionally broken\" Really ? Well where the fuck has he been for the past three years in my life? I am tired of asking God to make me feel less depressed and never getting an answer. I guess he doesn't give a shit about me, but that's okay, because now I don't give a shit about him either. \n",
      " yah.sorry i didnt write anything in the past week. was quite busy. yah. my birthday was on mon and i am officially 14. yah. haha. i cant wait till next year.then i'll be 15. tts quite crap right.haha. haha. i had alot of crap homework today. all subs also have. sigh. i am so dead. tommorrow is the deadline for me hols homework and i havent finished. haha. at least i have something to look forward to. ym meeting too is at 4. i guess i shall finish it during that long boring period. home econs is tommorrow too, its sucks. i never liked cooking, only eating. thats shitty. sigh. my blog is dammn lousy. i have no idea what to do with it. sigh. \n",
      "I am a 40 year old mother of two; ages 14 and 4. I guess I have been depressed about everything more recently, but have been really depressed for about 5 + years now. I thought bringing a new child into my life 4 years ago would help, but it only increased. I am so lonely, with no friends (well, one) since I moved to upper New York 4 1/2 years ago from Pittsburgh, Pennsylvania. I love my children, and my 21 hour job (that my doctor suggested). However, I do get to talk (chat) with anyone. I get every morning thinking that this day will be better, but it turns out to be sometimes worst than the day before .. I guess, I am writing this to gain some friends, and feel that I am not alone in this situations I feel I am into .. I don't drink, I don't do drugs, and I take my prescribed Medications like I am suppose too .. Is there anyone out there that would like to talk, or write, or e-mail me?\n",
      "I find myself hating birthdays and Christmas now Those are the times when you’re surrounded by friends and feel loved. I don’t get that so I find myself starting to hate it.  And I feel bad about feeling this way? I feel bad that I’m the one who can’t seem to smile and laugh when everyone else around me can do it just fine.  I feel bad that I’m the one at school that’s known for never smiling. That must be why no one tries to talk to me. \n"
     ]
    }
   ],
   "source": [
    "for i in long_data['Text'][:5]:\n",
    "    print(eliminate_multi_letters(i))"
   ]
  },
  {
   "cell_type": "code",
   "execution_count": 144,
   "id": "d981ff45",
   "metadata": {},
   "outputs": [],
   "source": [
    "# perform lemmatization here\n",
    "w_tokenizer = nltk.tokenize.WhitespaceTokenizer()\n",
    "lemmatizer = nltk.stem.WordNetLemmatizer()\n",
    "\n",
    "# lemmatize text\n",
    "def lemmatize_text(text):\n",
    "    text_list = [lemmatizer.lemmatize(w) for w in w_tokenizer.tokenize(text)]\n",
    "    listToStr = ' '.join([str(elem) for elem in text_list])\n",
    "    return listToStr"
   ]
  },
  {
   "cell_type": "code",
   "execution_count": 150,
   "id": "21baabd0",
   "metadata": {},
   "outputs": [
    {
     "data": {
      "text/plain": [
       "'tank top'"
      ]
     },
     "execution_count": 150,
     "metadata": {},
     "output_type": "execute_result"
    }
   ],
   "source": [
    "a = lemmatize_text(\"tanks tops\")\n",
    "a"
   ]
  },
  {
   "cell_type": "code",
   "execution_count": null,
   "id": "eb9d429a",
   "metadata": {},
   "outputs": [],
   "source": []
  }
 ],
 "metadata": {
  "kernelspec": {
   "display_name": "Python 3",
   "language": "python",
   "name": "python3"
  },
  "language_info": {
   "codemirror_mode": {
    "name": "ipython",
    "version": 3
   },
   "file_extension": ".py",
   "mimetype": "text/x-python",
   "name": "python",
   "nbconvert_exporter": "python",
   "pygments_lexer": "ipython3",
   "version": "3.8.10"
  }
 },
 "nbformat": 4,
 "nbformat_minor": 5
}
