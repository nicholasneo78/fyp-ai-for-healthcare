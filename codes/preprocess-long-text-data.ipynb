{
 "cells": [
  {
   "cell_type": "code",
   "execution_count": 36,
   "id": "aa8fb87d",
   "metadata": {},
   "outputs": [],
   "source": [
    "import pandas as pd\n",
    "import numpy as np\n",
    "import re\n",
    "import os\n",
    "from tqdm import tqdm"
   ]
  },
  {
   "cell_type": "code",
   "execution_count": 3,
   "id": "146fa671",
   "metadata": {},
   "outputs": [],
   "source": [
    "# root path to all the data files\n",
    "ROOT = './data/text_long_raw/'"
   ]
  },
  {
   "cell_type": "code",
   "execution_count": 4,
   "id": "44952935",
   "metadata": {
    "scrolled": true
   },
   "outputs": [
    {
     "name": "stdout",
     "output_type": "stream",
     "text": [
      "./data/text_long_raw/mixed_depression/\n",
      "./data/text_long_raw/mixed_non_depression/\n"
     ]
    }
   ],
   "source": [
    "# introduce file path constant\n",
    "# a mixture of reddit and blog data\n",
    "DATA_Y = ROOT + 'mixed_depression/'\n",
    "DATA_N = ROOT + 'mixed_non_depression/'\n",
    "print(DATA_Y)\n",
    "print(DATA_N)"
   ]
  },
  {
   "cell_type": "code",
   "execution_count": 28,
   "id": "857ba3dd",
   "metadata": {
    "scrolled": true
   },
   "outputs": [
    {
     "name": "stdout",
     "output_type": "stream",
     "text": [
      "I hate the way I look I've pretty much always hated the way I looked. I just recently got a really bad haircut and I'm considering shaving my head. I'll be ugly no matter what so I guess hair or no hair won't really make a difference. I can't afford plastic surgery or else I would. It sucks being an ugly girl.\n",
      "67\n"
     ]
    }
   ],
   "source": [
    "# sample on reading one text file (positive)\n",
    "with open(DATA_Y+'_Harley-Quinn_.txt') as f:\n",
    "    contents = f.read()\n",
    "    contents = contents.replace('\\n',' ')\n",
    "    print(contents)\n",
    "    # count number of words in the text\n",
    "    print(len(re.findall(r'\\w+', contents)))"
   ]
  },
  {
   "cell_type": "code",
   "execution_count": null,
   "id": "33985261",
   "metadata": {},
   "outputs": [],
   "source": []
  },
  {
   "cell_type": "code",
   "execution_count": 17,
   "id": "c563885c",
   "metadata": {},
   "outputs": [
    {
     "name": "stdout",
     "output_type": "stream",
     "text": [
      " as you can see from the last post i dont really have the smooth talk like u see in the action movies but i was wondering if anyone has any tips or suggestions or ideas on what to say to: a girl i dont know: a girl i kind of know: a girl i really know: my best female friend: \n",
      "60\n"
     ]
    }
   ],
   "source": [
    "# sample on reading one text file (negative)\n",
    "with open(DATA_N+'584768.200405240.male.15.txt') as f:\n",
    "    contents = f.read()\n",
    "    contents = contents.replace('\\n',' ')\n",
    "    print(contents)\n",
    "    # count number of words in the text\n",
    "    print(len(re.findall(r'\\w+', contents)))"
   ]
  },
  {
   "cell_type": "code",
   "execution_count": 25,
   "id": "e5e3abb2",
   "metadata": {
    "scrolled": true
   },
   "outputs": [
    {
     "name": "stdout",
     "output_type": "stream",
     "text": [
      "['--killjoy.txt', '--Pascal--.txt', '-Bonez-.txt', '-NotTerriblyTerrible.txt', '01Syd.txt', '0nangboy1.txt', '1010101_e_1_a_1_uk.txt', '18truck.txt', '1Boomstick.txt', '1rainynight_e_2_b_1_xx.txt', '2102cc.txt', '27_emilys.txt', '2Pacula_Was_Taken.txt', '321cmecum.txt', '3LeftFeetOKC.txt', '3sp00py5me.txt', '43burnt_e_1_a_1_xx.txt', '4lmu.txt', '4n0therThr0way.txt', '56j56j.txt', '5nowy.txt', '69ossoroniv.txt', '7amachaqo.txt', '80srock_e_2_b_1_xx.txt', '999lonely.txt', 'aaaaannnnnooooonnnnn.txt', 'Aahhhanthony.txt', 'aaron_nels.txt', 'abouta5outoften.txt', 'ABrokenBeing.txt', 'AbsolutelyCheese.txt', 'abysmalum.txt', 'AbyssmiX.txt', 'accountforsadness.txt', 'accualiizdolan.txt', 'aclange.txt', 'acooper26.txt', 'Acornkramer.txt', 'ActivatingEMP.txt', 'adamsandlerslefthand.txt', 'adriannalewis000999.txt', 'adriftinaseaof.txt', 'AdvanceWars002.txt', 'aerdn.txt', 'AeshmaHendrix.txt', 'afalconie.txt', 'AfifAfifAfif.txt', 'AG74683.txt', 'AgentStarkiller.txt', 'agent_00de7on.txt', 'aggressivepoverty.txt', 'AgnostoDarkness.txt', 'ahmulz.txt', 'AimF_Official.txt', 'Air_Puffed_Sugar.txt', 'aishasheart_e_2_b_c3i_xx.txt', 'AkikoKimiko.txt', 'alcthrowaway123.txt', 'Alexanderismyname.txt', 'alexdagreat15.txt', 'AlexHidanBR.txt', 'aliemm.txt', 'Alien24tb.txt', 'Allemanator.txt', 'almohh.txt', 'alonesoul.txt', 'alonethrowaway600.txt', 'alphaaxl_e_1_a_US.txt', 'alsan7719_e_2_b_c3i_xx.txt', 'alt_account_j.txt', 'AlwaysAReject.txt', 'alwayshear.txt', 'Amandalang_e_2_a_c3_us.txt', 'Ameookami.txt', 'amitkilo.txt', 'amy2799_e_2_b_c3r_xx.txt', 'an0therFate.txt', 'anademia_e_2_b_c3_xx.txt', 'anathuhma.txt', 'ana_sn.txt', 'andreabergmoney.txt', 'andysimberg.txt', 'angela2_e_2_b_1_nl.txt', 'angela_e_2_a_1_uk.txt', 'angelofshadows_e_2_b_1_uk.txt', 'AnIllusionOfSelf.txt', 'anja_e_2_a_c4_xx.txt', 'annabelmarie.txt', 'annhik_anomitro.txt', 'annika_e_2_b_1_xx.txt', 'Anonymousreddit99.txt', 'anonymousxero_e_1_a_1_xx.txt', 'AnonyRedditor2301.txt', 'AnotherAnonexjw.txt', 'anotheronedies.txt', 'ansel-a.txt', 'antarcticaa.txt', 'Antzlive.txt', 'anxietystruggles.txt', 'Anxious_fervor.txt', 'AnySpirit.txt', 'AOD_e_1_b_1_xx.txt', 'Appolinaris9.txt', 'AquaBlader.txt', 'Archemyde76.txt', 'ariga2.txt', 'arkhamnaut.txt', 'arnavbarbaad.txt', 'art.chick_e_2_b_1_us.txt', 'artaudette_e_2_a_c4_xx.txt', 'arthursbeardbone.txt', 'artiagax.txt', 'ArticPeacemaker.txt', 'ArtificialReaper.txt', 'asdleves.txt', 'ashwell_e_2_b_c3w_us.txt', 'ashwilliams94.txt', 'Ash_e_2_B_1_us.txt', 'asianmulder_e_1_b_1_uk.txt', 'askscreepyquestions.txt', 'asstittys420.txt', 'astro_phoenix.txt', 'Augusted.txt', 'ausername-.txt', 'austen1996.txt', 'autumn63_e_2_b_c3i_xx.txt', 'autumnwolfmoon89.txt', 'autumn_e_2_b_1_be.txt', 'Autumn_Fire.txt', 'avo1dant.txt', 'avQlob.txt', 'awaythrowone2three.txt', 'awkward_goddess.txt', 'AxeMurderer--.txt', 'ayden634.txt', 'azmum_e_2_b_c4_uk.txt', 'azotweek.txt', 'A_cat_Named_Behemoth.txt', 'babobaka.txt', 'babyphatt-.txt', 'BadAtEverything7.txt', 'bagelbagel10.txt', 'bagelzboi.txt', 'baldasian.txt', 'bartonlg.txt', 'basedinspoons.txt', 'bashland.txt', 'basicallyuncanny.txt', 'Bastard-Chicken.txt', 'bbbleu.txt', 'bbbleu1.txt', 'Bbell1.txt', 'bcxavier92.txt', 'bdhd656.txt', 'Bearly-fabulous.txt', 'Bearsaregood.txt', 'beckykitty_e_2_b_c4_uk.txt', 'Bekay49.txt', 'bellemort_e_2_a_c3w_us.txt', 'BeloKure.txt', 'Benkenobix.txt', 'bethnahrain.txt', 'betterthanprozac.txt', 'bevymarsh.txt', 'BeyondKaos.txt', 'biffybeefa.txt', 'Bigcheech37363.txt', 'biggest_failure.txt', 'bird2E_e_2_c_1_us.txt', 'birdie595.txt', 'bishopcircle_e_2_b_c3m_xx.txt', 'bitter-fat-bitch.txt', 'Blackcel20.txt', 'blackkorean13.txt', 'blacksheep304.txt', 'bladeer01.txt', 'blehbleh234.txt', 'Blhipes.txt', 'Blitz_and__Chips.txt', 'Blowfeld_623.txt', 'BlueBirdthe3rd.txt', 'bluefj.txt', 'blueivyyy.txt', 'blueocean7_e_2_b_c3r_xx.txt', 'bluest_e_2_a_c3m_xx.txt', 'Blue_sea2.txt', 'boom_7.txt', 'boricuabella.txt', 'borkforpuppers.txt', 'bottom_textboy.txt', 'br0wni3_orb.txt', 'breakfastandbrunch.txt', 'brett0914.txt', 'BrightKnives.txt', 'Brispizzagiver.txt', 'brittney_e_2_a_c2_xx.txt', 'Bro0k.txt', 'broadzillajones.txt', 'brokenhearted888.txt', 'brokenheartedangel_e_2_a_xx.txt', 'broken_e_2_a_1_au.txt', 'broken_warrior.txt', 'brosama_bin_ladin.txt', 'BruddhaBuddha.txt', 'BRvr1S51w3LZ0fOK.txt', 'btwkimbhsjsjs.txt', 'bubble83_e_2_a_c4_uk.txt', 'BubblyCoffee.txt', 'buggy-pop.txt', 'bug_e_2_b_1_us.txt', 'buhhhhh_1.txt', 'burninglittlekiddies.txt', 'butterfly090.txt', 'butterfly721_e_2_b_1_xx.txt', 'CactusKeeper.txt', 'cadalae.txt', 'cakemix_e_2_b_1_us.txt', 'CaliBounded.txt', 'callmeunicorn.txt', 'CallMeZeo.txt', 'calmingviolet.txt', 'calvin689445.txt', 'cannabisplatypus1.txt', 'CantReadShxt.txt', 'CapntainIceberg.txt', 'Captainschneids.txt', 'caramel-crisis.txt', 'Carla_e_2_b_1_ph.txt', 'carly-rae_sremmurd.txt', 'CarnivorousCavalry.txt', 'carolyn_e_2_a_1_au.txt', 'cartmanselection.txt', 'CastielTheFurry.txt', 'castorcale.txt', 'cataclyzm_e_1_b_c3d_uk.txt', 'cathy1966august_e_2_b_c3i_xx.txt', 'catsgetsreal.txt', 'caught-me-staring.txt', 'CaydenJRS.txt', 'cecilia108100.txt', 'cedar57_e_2_b_c3f_xx.txt', 'CelebrityTakeDown.txt', 'chaku_e_2_a_1_xx.txt', 'chalieburd_e_1_a_1_xx.txt', 'charliemeadows_e_1_b_1_us.txt', 'Charmlessman96.txt', 'ChaseMulonas.txt', 'cheesescrust8899.txt', 'Chewbacca555.txt', 'chewbucka2_e_2_b_1_us.txt', 'ChewyJewyJerky1.txt', 'Chexmix__.txt', 'Cheyenne5955.txt', 'chickpea_e_2_a_c4_xx.txt', 'chihuahuabonk.txt', 'chitownchix_e_2_c_c4_xx.txt', 'chosenxcod.txt', 'chrisnufc1892_e_2_c_1_xx.txt', 'ChrisThaWiz.txt', 'ChromulonBill.txt', 'ChuBecka.txt', 'Chunkyman47.txt', 'Cityzza.txt', 'cjlamanto3.txt', 'clayjrjr2_e_1_a_1_xx.txt', 'Clay_Bateman.txt', 'Clintt64.txt', 'cloudsigh.txt', 'cmonbrake_e_2_a_c3i_xx.txt', 'codirose_e_2_c_c3d_us.txt', 'CoffeeAndADeathwish.txt', 'coffeecreamer06.txt', 'coffeemom123_e_2_b_c3i_us.txt', 'comebackkid_e_2_c_1_us.txt', 'comfusedcarla_e_2_b_c4_us.txt', 'ConfusedThrowawaying.txt', 'ConsciousBread4.txt', 'Conurekid.txt', 'cookiebutt51.txt', 'cookiezncream2.txt', 'cool12y.txt', 'coolmast3r.txt', 'CorkyDonkins.txt', 'cosims2.txt', 'countrychick4_e_2_a_c3s_ca.txt', 'Cpl_Cocks.txt', 'CptRabbitFace.txt', 'CPUihlein.txt', 'crapshitfeces.txt', 'CrashBandicIit.txt', 'crashingmountains.txt', 'crawlinahole_e_2_b_c3r_us.txt', 'crazyinarkansas_e_2_b_c3i_us.txt', 'creambo2.txt', 'criminal__minded.txt', 'crimsonK_e_2_a_c3g_us.txt', 'crimsonwrists.txt', 'Cris9608.txt', 'crockodily.txt', 'Crunchytaco115.txt', 'cry-for-helpplease.txt', 'Crystonyx.txt', 'CSrockwell_e_1_a_1_au.txt', 'cunt126.txt', 'cutedeadgrrl.txt', 'CutePyromancer.txt', 'cymbele_e_2_b_c3r_xx.txt', 'cyrus_e_1_a_1_us.txt', 'd1zzyw1zzy_e_2_b_1_uk.txt', 'd1_1ust.txt', 'dad_e_1_c_1_xx.txt', 'daftpunk34.txt', 'dak246_e_1_a_1_xx.txt', 'DalamudPopoto.txt', 'DaMightyJex.txt', 'danamitch_e_2_b_c3f_xx.txt', 'dancinginthedaek.txt', 'dante7889.txt', 'DantheGutterman.txt', 'dan_e_1_b_1_us.txt', 'DarkDevil26.txt', 'darkembers_e_2_b_1_xx.txt', 'DarkosMystery.txt', 'DarkRobin.txt', 'datdude1738.txt', 'daughter001_e_2_a_c3w_ca.txt', 'davemadgew.txt', 'davidoff0078.txt', 'davika_e_2_b_c3i_xx.txt', 'dawgdean_e_1_b_1_us.txt', 'dawid720.txt', 'Dead-lnside.txt', 'DeadInside18.txt', 'DEADSLUTFACEFUCK.txt', 'Dean_Martin_17.txt', 'deathtamer.txt', 'debw66_e_2_b_1_us.txt', 'deedee88_e_2_b_c2_us.txt', 'deef343.txt', 'deemanzo.txt', 'DeepIntoTheUnknown.txt', 'delca_e_2_ab_c1_us.txt', 'Delet_Angery.txt', 'delmus_e_1_b_1_xx.txt', 'depressed-_throwaway.txt', 'depressedathlete.txt', 'DepressedATripleStar.txt', 'DepressedHominin.txt', 'depressedwife_e_2_b_c2_ca.txt', 'Depressed_Anonymous.txt', 'depression-or-pms.txt', 'depression203.txt', 'Depressionsintheair.txt', 'desdrake13.txt', 'desolateflaw.txt', 'destructive_e_2_a_1_xx.txt', 'DevastatedPianist.txt', 'devicho.txt', 'DevilMayCrying.txt', 'devina67.txt', 'Diamond12208.txt', 'DiarrheaBrigade.txt', 'Diddlyliddy.txt', 'diebriandie.txt', 'dieinhelll.txt', 'DifferentiatedFly.txt', 'DilesMyson.txt', 'diluted_e_1_a_1_uk.txt', 'Dirk_Gentley.txt', 'disenchanted_e_2_b_c4_au.txt', 'DIsForDelusion.txt', 'DivusP.txt', 'dixiehorses_e_2_a_1_us.txt', 'DJAbner375.txt', 'djagain2004.txt', 'dlc864_e_2_b_c1_xx.txt', 'DoingMyBest122.txt', 'doitymick.txt', 'Domouki.txt', 'DoneWithLife96.txt', 'DongMeister2210.txt', 'Dontknowanymore97.txt', 'DontKnowWhatImDoing-.txt', 'dontyoushiverr.txt', 'dooinit_e_1_b_1_xx.txt', 'doped_turtle.txt', 'Dovahkiin_Princess.txt', 'downer90.txt', 'downinit_e_2_a_c2_us.txt', 'DownstairsAnomiidae.txt', 'dprssthrowaway.txt', 'DQPT.txt', 'dragonspartan54.txt', 'draquion_e_2_ab_c3i_us.txt', 'drauch52.txt', 'dredscottsdreadlocks.txt', 'drewthepooh72.txt', 'Drift_Bunny.txt', 'drink-fast.txt', 'DrinkingMud.txt', 'Drunk_Nut.txt', 'Dr_Tickleshitz.txt', 'dsound.txt', 'dtheme.txt', 'DualHope.txt', 'DuckerySuckery.txt', 'duckinator5000.txt', 'duckywucky1.txt', 'DuRazziK.txt', 'dusty_e_2_a_c2_uk.txt', 'D_e_2_a_1_can.txt', 'eastcoastadam.txt', 'Eczentric.txt', 'EiiMagician.txt', 'eliegirl2PMA_e_2_b_1_xx.txt', 'elleokay.txt', 'elliebean16.txt', 'ElliotWalker5.txt', 'Eman9871.txt', 'eman_5064.txt', 'emilib_e_2_a_1_xx.txt', 'Emilko62.txt', 'emmanne_e_2_b_c3m_ca.txt', 'Emochind.txt', 'emotionalmazochist.txt', 'emperorjunjie.txt', 'empressfelicia.txt', 'Emptyshade.txt', 'endofthegame.txt', 'EquinosX.txt', 'ericts0_e_1_a_c3d_us.txt', 'erosagnostic_e_2_b_c1_us.txt', 'EthanTreadzy.txt', 'everything3d.txt', 'everyuseristaken124.txt', 'ewjen_e_2_b_1_us.txt', 'excitive.txt', 'Exifile.txt', 'existentialost.txt', 'exotic_wednesday.txt', 'ExpectationsTooHigh.txt', 'exSI_e_2_a_1_us.txt', 'ExternalRace6.txt', 'Exzenio.txt', 'Ex_gamer.txt', 'eyesoftheworld_e_1_b_1_xx.txt', 'ezoze_e_1_b_c3s_xx.txt', 'F1RST-1MPR35510N.txt', 'FadingWalnut.txt', 'fakeacc13.txt', 'fallingsun_e_1_a_1_nl.txt', 'FancypantsScholar.txt', 'Farneil.txt', 'FatPsychopathicWife.txt', 'fbtra.txt', 'fdcbfzdd.txt', 'feelingcrazy_e_2_b_c4_xx.txt', 'Felixthespacecat.txt', 'Felven101.txt', 'Ferginaire.txt', 'ffsdontaskme.txt', 'Filipino_Buddha.txt', 'Fine_on_the_outside.txt', 'finnjameson.txt', 'Fireheart251.txt', 'fireinmyeyes4.txt', 'firstthrowawayever12.txt', 'Flareon121.txt', 'Fleshgod.txt', 'flozza89.txt', 'fluffball_e_1_b_1_xx.txt', 'flushd_e_2_b_c3r_ca.txt', 'FlyingRep.txt', 'foliagge.txt', 'fookin_idget.txt', 'forceville_e_2_b_c3g_xx.txt', 'fordmc_e_2_a_c3f_us.txt', 'foreverbroken_e_2_a_c3i_us.txt', 'forevernachoss.txt', 'forgoten_mad_man.txt', 'fortunamajor88_e_2_a_c4_xx.txt', 'foxcub156.txt', 'foxwound.txt', 'frankey_e_2_b_1_xx.txt', 'frankreynoldsfan.txt', 'FrankWest21CP.txt', 'freeofeverything.txt', 'FreshChipanya.txt', 'Freshoutafolsom.txt', 'FridgeSoup.txt', 'FriendDinosaur.txt', 'Frogcabaret.txt', 'froggiegirl62_e_2_b_1_xx.txt', 'fromtheheart_e_2_c_c4_us.txt', 'frostshiz_e_1_a_c3g_xx.txt', 'frozencrazytuna.txt', 'fruitloop_e_2_a_c4_xx.txt', 'fry_ied.txt', 'ft756.txt', 'fuchan_e_1_a_1_xx.txt', 'fucktheworld09.txt', 'fuckthisnoise8.txt', 'fufukuschlipups.txt', 'FunctionalDepressive.txt', 'funk77_e_2_a_c3q_us.txt', 'FunKarrFinbar.txt', 'funkodunko.txt', 'Fusionnn.txt', 'FutureCosmonaut.txt', 'g00ney.txt', 'gabegee.txt', 'GalacticRhinoceros.txt', 'GalacticShipbuilder.txt', 'gardenwittch.txt', 'gaseous_tears.txt', 'geekgranny_e_2_c_c3g_us.txt', 'geetargod.txt', 'GeneralTree5.txt', 'generic2428.txt', 'GentsJourney.txt', 'geoffersonstarship.txt', 'gettingbetterguys.txt', 'gigahyperprime.txt', 'gimmethatcervix.txt', 'GingerSnoop.txt', 'Giovasion.txt', 'girl82_e_2_a_c3f_xx.txt', 'GiveMeSomeSugarBby.txt', 'gizazaga99.txt', 'glassmoonlight_e_2_a_1_us.txt', 'glenniem_e_1_b_c3w_us.txt', 'GloppinBoopn.txt', 'gnortsmr4lien.txt', 'Goadmaster.txt', 'godcantbethiscruel_e_a_c3f_us.txt', 'Goddamnporkchop.txt', 'Gods-Left-testicle.txt', 'Gogoche.txt', 'gogophs22_e_1_b_c3q_xx.txt', 'gomezhouse.txt', 'Gondile.txt', 'Gone333.txt', 'gootshall.txt', 'gorgon_e_1_35_1_xx.txt', 'gravestockrock.txt', 'GreatKnightArtorias.txt', 'gregmethod_e_1_b_c3m_xx.txt', 'GreyIrontier2.txt', 'grufflepuss_e_2_b_1_uk.txt', 'grykrm.txt', 'gunslingster.txt', 'gus_e_1_b_c2_xx.txt', 'Guthiiixxx.txt', 'gyork99.txt', 'h1bum.txt', 'H4NDLE.txt', 'h8tlyfe69.txt', 'Haarmless.txt', 'hackmedaddy.txt', 'hallie_e_2_a_c4_uk.txt', 'halo2030.txt', 'hanamin.txt', 'Handmedown20.txt', 'Hanging_On_To_Life.txt', 'hanksmom_e_2_b_c3m_xx.txt', 'harlequin_e_1_b_1_us.txt', 'HarleymahYajob.txt', 'HasheemThabeetGOAT.txt', 'HashtagGod.txt', 'haveabiscuitpotta.txt', 'Hayate_Immelmann_.txt', 'hbaum96.txt', 'HeartbreakInStereo.txt', 'Hehehuoooo.txt', 'Helios525.txt', 'HellhearttheWarwolf.txt', 'hellishgoddess.txt', 'hello-everyone--.txt', 'HelloReddititmeagain.txt', 'helpmeplease1987_e_2_a_c3f_xx.txt', 'henlo-stinky.txt', 'hennz_e_2_b_c3i_xx.txt', 'Hereigoagain2017.txt', 'Heroofthenovaforce.txt', 'herspirit_e_2_bc_c3c_us.txt', 'hesitating_e_2_a_c3p_xx.txt', 'hev_e_2_b_c4_xx.txt', 'heykidss.txt', 'HiddenLady_e_2_b_c3_uk.txt', 'hitbyatruck_e_2_a_c3c_xx.txt', 'holacomoestas1991.txt', 'hoochiellama.txt', 'hopeangus.txt', 'HopelessRoomful.txt', 'HopingLove.txt', 'hopper_e_1_b_1_xx.txt', 'HowToBeAdult.txt', 'hrair-roo_e_2_b_1_us.txt', 'Huhhowwhat.txt', 'humanvirus.txt', 'Humble_Person.txt', 'hunger_for_sanity.txt', 'hype12_e_1_b_1_xx.txt', 'hyy65.txt', 'IAmAnonRN667.txt', 'iambipolar2.txt', 'Iammisterleviathan.txt', 'IAmSadAndAshamed.txt', 'iamsortoffakenews.txt', 'iconundrum_e_1_b_1_xx.txt', 'idgaf0.txt', 'Idk002.txt', 'idkanotherthrowaway.txt', 'idkwhatiswrongwithme.txt', 'idontusually420.txt', 'idreamy_e_2_ab_c3r_xx.txt', 'idwausername.txt', 'iEmpty.txt', 'ieroxx.txt', 'ifcommune_e_1_b_1_xx.txt', 'Ig0ka.txt', 'Iggy-Koopa.txt', 'iHateAnimedotJPEG.txt', 'ihatemyjobandlife.txt', 'iHateNumbers123.txt', 'IIErebusII.txt', 'IJ3tI.txt', 'ijdk1000.txt', 'ijquino.txt', 'ijustwannaknowpls.txt', 'ilcapo91.txt', 'Ildigrub.txt', 'ILiveABoringLife.txt', 'imblindfam.txt', 'ImMissBrightside.txt', 'ImNoOneThanks.txt', 'ImPatheticAMA0.txt', 'Imperial_Left.txt', 'ImpulsiveAnalytic.txt', 'ImSoTiredOfEverythin.txt', 'imtav.txt', 'InconsiderableSingle.txt', 'indict_me.txt', 'indigogirl_e_2_a_1_us.txt', 'insertwittyname_e_2_a_c3i_xx.txt', 'intensebuzz.txt', 'inthedoorway_e_1_b_c2_xx.txt', 'introvertedroomba.txt', 'invain_e_2_b_c3r_xx.txt', 'IPET24.txt', 'iPhone_Answers.txt', 'Irene-the-Addler.txt', 'Irishsurfer93.txt', 'IronMyr.txt', 'irwiwhrn.txt', 'irz095.txt', 'isacin1612.txt', 'isauvey_e_1_b_1_xx.txt', 'islaisla.txt', 'isthisalsotakenwtf.txt', 'iswearimnotnuts_e_2_b_1_xx.txt', 'Itmeansnothing123.txt', 'Itsalwayslupus72935.txt', 'itsmemofo.txt', 'itsme_e_2_b_1_uk.txt', 'itsmitchk.txt', 'Its_ASquid.txt', 'Its_smithy.txt', 'Ivesisgoingtobebig.txt', 'ivie79_e_2_b_c3c_xx.txt', 'ivystudentconfession.txt', 'Izagamii.txt', 'izzy56_e_2_b_c3s_xx.txt', 'i_am_not_happy_.txt', 'j08_e_2_a_c3r_uk.txt', 'jab_a_hut.txt', 'JackAss987.txt', 'JackieDarko.txt', 'jahe_e_2_b_c3q_sa.txt', 'jakeefswag.txt', 'james1031_e_1_b_c3i_xx.txt', 'Jameswolf_e_1_a_1_uk.txt', 'janalow_e_2_c_c3d_us.txt', 'Janievasquez234.txt', 'Jasonwj322a.txt', 'jason_e_1_b_c3m_us.txt', 'javanbali_e_2_b_c3w_us.txt', 'Jay3178.txt', 'JA_e_1_a_1_uk.txt', 'jdawg7780.txt', 'JDFLA_e_1_b_1_us.txt', 'jdindiana.txt', 'jdpeg.txt', 'jeanphoenix_e_2_a_c3q_xx.txt', 'jeepsterkitty.txt', 'jenna1997.txt', 'Jen_e_2_b_1_uk.txt', 'jersdreams_e_1_a_1_xx.txt', 'jessica0327_e_2_a_c1_ca.txt', 'jesslikesmusic17.txt', 'jessm_e_2_a_c3d_us.txt', 'jewyjew69.txt', 'JFrenck.txt', 'Jhyanisawesome.txt', 'jillivinilly_e_2_b_1_us.txt', 'jindred.txt', 'jj1956.txt', 'jkm_e_2_a_1_xx.txt', 'jll986.txt', 'jmann329.txt', 'joebro54.txt', 'Joegnathrwthisaway22.txt', 'joeloksa999.txt', 'joenathan_e_1_a_1_xx.txt', 'joe_e_1_b_1_uk.txt', 'jollyrancher_e_2_a_c3d_xx.txt', 'joonie10132017.txt', 'Joshua_The_Punisher.txt', 'josiahstick.txt', 'Judge_of_Java.txt', 'julesm07.txt', 'jumpovertheside.txt', 'just-4-confession.txt', 'justamanwithnoplan11.txt', 'JustAnotherGuyNo2.txt', 'justanotherskittle.txt', 'JustASmallSandwich.txt', 'justfuckmyfuckup.txt', 'Justin_Case619.txt', 'justin_e_1_b_1_us.txt', 'justletmeliveinpeace.txt', 'justme_e_2_b_1_us.txt', 'JustMonika2135.txt', 'justsickandtired.txt', 'justwondering_e_2_b_c3m_us.txt', 'just_saiyan24.txt', 'just_whoever.txt', 'jzzlvr613_e_2_c_c3q_us.txt', 'J_satanic.txt', 'K@ty_e_2_a_1_xx.txt', 'kadasc_e_2_a_c3i_us.txt', 'kaitmina.txt', 'Kaligonistic.txt', 'kappakappa123123123.txt', 'Karmaagnostic.txt', 'karma_trained.txt', 'Karteros.txt', 'kat5757_e_2_a_c3i_us.txt', 'katall11013.txt', 'KayChilly.txt', 'KeiseStorm87.txt', 'keke65.txt', 'kelso_e_1_c_1_xx.txt', 'Kel_e_2_b_1_us.txt', 'kenji03_e_1_a_1_au.txt', 'keslo66_e_2_b_c3c_xx.txt', 'ketner_e_2_b_c3m_xx.txt', 'kevin_e_1_a_1_us.txt', 'kevmarshall.txt', 'kevv729_e_1_b_1_us.txt', 'KeysOpenTrees.txt', 'kicks_kicks.txt', 'kidmanson13.txt', 'Kidy_the_Cat.txt', 'kierewalker_e_2_b_c3q_xx.txt', 'Kiickme123.txt', 'killeraing.txt', 'killian_e_2_b_1_us.txt', 'killingtime_e_2_a_1_xx.txt', 'kimchiyams.txt', 'kimmer5999_e_2_b_c3i_xx.txt', 'Kimoly.txt', 'KingPesant1.txt', 'Kiopkxki.txt', 'kirsty_e_2_a_1_uk.txt', 'Kissessuckmytoes.txt', 'kkielle.txt', 'klibrey.txt', 'KMSTheMovie.txt', 'Knight2nite.txt', 'Knight_wolves.txt', 'kodelka_e_2_a_1_us.txt', 'koopey.txt', 'KoreanKid22.txt', 'kr51.txt', 'krillinsexywife.txt', 'krisaustin_e_2_a_c3r_us.txt', 'kylebellamy_e_1_b_1_xx.txt', 'KyleJennerous.txt', 'kyuubyey.txt', 'k_i_k_i.txt', 'L3G1T001.txt', 'ladyelkotby_e_2_b_c3w_us.txt', 'lakestreet612.txt', 'lalagirl_e_2_b_c3i_uk.txt', 'lamesauce_e_1_a_1_us.txt', 'larrylobster8.txt', 'LastVisage.txt', 'LAS_e_2_c_1_us.txt', 'laurenL01_e_2_a_c3_xx.txt', 'LavenderCats.txt', 'LazySnowflake.txt', 'lector_e_1_b_c4_xx.txt', 'LeFedoraKing69.txt', 'Lekbekbone.txt', 'lelops.txt', 'lenore25_e_2_b_1_us.txt', 'LetsGetHighRn.txt', 'letstalklifeandstuff.txt', 'LewisOliver.txt', 'lexapro2006_e_2_a_c3m_xx.txt', 'lifehuh17.txt', 'LifeIsInvalid.txt', 'lifeispeppermint.txt', 'Lifeisprettyboring12.txt', 'LifeSucksThrowaway77.txt', 'lildeepdish.txt', 'lildragon86.txt', 'LillithMoonx.txt', 'lilsk8rgrl_e_2_a_c4_xx.txt', 'lilsunsets_e_2_a_c3g_xx.txt', 'LilTwerkster.txt', 'lily00_e_2_a_c3d_us.txt', 'LionGirl25.txt', 'Lionheart12369.txt', 'lionshart.txt', 'lisamter_e_2_b_c4_us.txt', 'lisanami.txt', 'livingeeyore_e_1_b_c1_us.txt', 'lizzy_e_2_c_1_uk.txt', 'loganparker420.txt', 'lolitaXnyc.txt', 'lonelyandsad111.txt', 'LonelyetDeranged.txt', 'longhairIcare69.txt', 'longphu.txt', 'lonlyastronaut.txt', 'lonny77_e_1_b_c4_xx.txt', 'Lookinforinspiration.txt', 'Loomynerry.txt', 'Lordbobsaget.txt', 'LordNecrosian.txt', 'LordsBlade.txt', 'Loser_9001.txt', 'lostandconfused_e_2_b_1_uk.txt', 'lostapple321.txt', 'Lotacus.txt', 'LoudCupcakes.txt', 'lovegood22.txt', 'LPNinja.txt', 'luisa06_e_2_a_c3f_xx.txt', 'Lumeniscent.txt', 'Lupiyo.txt', 'Lurkingsenpai.txt', 'Lutisse.txt', 'luvfool.txt', 'lycan_e_2_b_c4_uk.txt', 'lymom3_e_2_b_1_xx.txt', 'lynnologist.txt', 'lynsinscot_e_2_a_1_sc.txt', 'M1ndSpawn.txt', 'm2_e_2_b_1_us.txt', 'm9matlew_e_2_a_c3m_xx.txt', 'MACNC45.txt', 'Madandworthless.txt', 'madnsad_e_2_b_c3f_xx.txt', 'mai_mai_moi.txt', 'Major017.txt', 'makinmyway_e_2_b_c3m_ca.txt', 'makushla.txt', 'ManicMondaze.txt', 'maniwany.txt', 'mapleconfessions_e_2_a_1_can.txt', 'maqspaqs02_e_2_a_1_us.txt', 'marc098.txt', 'marinacatherine.txt', 'Mark-Zucc-Erberg.txt', 'mark1974_e_1_b_c3i_uk.txt', 'markcol_e_1_b_c3r_xx.txt', 'Marleaubugatti.txt', 'martedd.txt', 'maryphil_e_2_a_c4_xx.txt', 'massimovolume.txt', 'masterchefJ.txt', 'maternallove_e_2_bc_c3m_uk.txt', 'maybe_dead.txt', 'MayDayBellarm.txt', 'McGillis_is_a_Char.txt', 'Mcsavage89.txt', 'medusiai.txt', 'mek714_e_2_b_c3p_xx.txt', 'MelancholicRobot.txt', 'melancholymom_e_2_b_c3q_xx.txt', 'melboogie_e_2_b_c3m_xx.txt', 'melissa_e_2_b_c2_us.txt', 'meltz_e_2_b_c3r_uk.txt', 'membrain_e_2_a_1_can.txt', 'Metal_Guitarist.txt', 'MetamorphousWhir.txt', 'meurseault.txt', 'mia24_e_2_a_c3c_uk.txt', 'miacleft.txt', 'michelle7871_e_2_b_c3m_xx.txt', 'midnightmia_e_2_a_c3s_xx.txt', 'midnightrider_e_1_ab_1_uk.txt', 'mike_e_1_b_c2_xx.txt', 'Mikleyn.txt', 'Mileena_irl.txt', 'milenaandy.txt', 'mili_e_2_b_c4_xx.txt', 'milkybrews.txt', 'Milli63.txt', 'millieblobs_e_2_a_c4_uk.txt', 'mindslave_e_1_a_1_us.txt', 'mini22_e_2_a_c3f_xx.txt', 'minorchey.txt', 'MisfitGhoul13.txt', 'Miso_J.txt', 'missasister_e_2_a_c1_us.txt', 'misschris828_e_2_a_c3s_ca.txt', 'missingjay2_e_2_c3r_us.txt', 'missinglife_e_2_a_1_xx.txt', 'missmisc28.txt', 'Missspelld.txt', 'missy4477_e_2_a_c3p_us.txt', 'MisterGiraffaxx.txt', 'MisterToken.txt', 'mistreatedlewis.txt', 'MistyCouch_e_2_a_c3_us.txt', 'mitchija.txt', 'mitmitdepress_e_2_b_c2_xx.txt', 'Mizzy_McMizface.txt', 'mjp1966__e_1_b_c4_us.txt', 'mjpenslitbooksgalore.txt', 'mkultratide.txt', 'mlongbottom.txt', 'MLO_e_2_b_1_xx.txt', 'mlrssweety_e_2_b_c3q_xx.txt', 'MMhippiefag.txt', 'Moderategiant.txt', 'mojotrain.txt', 'mommydearest_e_2_b_1_us.txt', 'mommyndec_e_2_a_c3f_xx.txt', 'momof5_e_2_b_1_xx.txt', 'momwitautist_e_2_b_c3q_uk.txt', 'Monsterbite.txt', 'Monte_Piethon.txt', 'moodyladym_e_2_b_c3i_xx.txt', 'moolahn.txt', 'moon-lover.txt', 'MOONMO0N.txt', 'moonruby_e_2_B_1_us.txt', 'moon_titties.txt', 'morgan_e_1_a_c1_xx.txt', 'Moritschac.txt', 'most_unoriginal_ign.txt', 'mpj_e_2_b_1_xx.txt', 'Mr.Hyde_e_1_a_1_us.txt', 'Mr.T_e_1_a_1_xx.txt', 'MrCorntoast.txt', 'MrIR3D.txt', 'mrjacksc.txt', 'MrPancholi.txt', 'Mrrobot117.txt', 'MrWolfGuy.txt', 'Mr_Unwanted.txt', 'Muazrozlan.txt', 'mumzysuz_e_2_b_c1_xx.txt', 'murtlapessence.txt', 'musicjunkie7.txt', 'musicmusicmusic128.txt', 'myaoakoah.txt', 'Mybodydontfeelwell.txt', 'Mycosphaerella.txt', 'Mymar.txt', 'myoujou_e_2_a_1_us.txt', 'mysecretskill.txt', 'myspiritisvantablack.txt', 'mystry_e_1_c_c2_ca.txt', 'Mzmzmzlalalaksksks.txt', 'n01kn0ws_e_2_a_1_xx.txt', 'n3ssypoo.txt', 'nakedflower_e_2_a_c3s_us.txt', 'nanaban_e_2_a_c3r_xx.txt', 'NaturalChemical.txt', 'natzo.txt', 'NayruNightlight.txt', 'needful-things.txt', 'Needhugs5.txt', 'neil932_e_1_b_1_uk.txt', 'nemrac_e_2_b_c4_ne.txt', 'Neptune_Atlas.txt', 'nervouswreck_e_2_a_c3i_xx.txt', 'neuralrunes.txt', 'neverdieTRX.txt', 'newbiedoobiedooo.txt', 'newlywed_e_2_b_c4_us.txt', 'newwindowsofthesoul.txt', 'New_Pulse.txt', 'Neziaz.txt', 'nickelbackgirl80_e_2_b_1_xx.txt', 'nicksaiz65.txt', 'Nightfall8.txt', 'nightman4evr.txt', 'NihilisticMiles.txt', 'nineteenninetysux.txt', 'nintemdogs.txt', 'niossplosion.txt', 'nitetrain8_e_1_a_1_xx.txt', 'Nitrocidic.txt', 'nizochan.txt', 'nocaliladi_e_2_c_c3g_us.txt', 'nocturnecamel_e_1_b_1_xx.txt', 'NofapIsAMust.txt', 'nohchu.txt', 'nonmetaphoricflop.txt', 'nontanu.txt', 'non_ironicdepression.txt', 'noonegonnaknowwhoami.txt', 'normaliseme.txt', 'northernstar_e_2_a_1_se.txt', 'norunningwater.txt', 'norvan72.txt', 'Nostalgic_Pyak.txt', 'nosture28_e_2_b_c3g_us.txt', 'NoSwearingPlease.txt', 'notmyfullname92.txt', 'NotTaken141000.txt', 'novelette09.txt', 'No_Scale.txt', 'Nually.txt', 'nuggets404.txt', 'Nugsnhugs1990.txt', 'nyanpoop.txt', 'NyxRed.txt', 'oceanoftears_e_2_a_1_us.txt', 'officialhommerun.txt', 'officialredpig.txt', 'OG-Bobby-2-Dabs.txt', 'OGZergo.txt', 'Ohboy89.txt', 'Ohmygodseriously.txt', 'oksometimes_e_2_b_c3r_xx.txt', 'OldCollegeJavelin.txt', 'olgathevampireslayer.txt', 'ollyfraser.txt', 'omegamanY.txt', 'omichel.txt', 'onehalfasian.txt', 'oneoh_one.txt', 'onetapsS.txt', 'OniGodcomplex.txt', 'onleeace.txt', 'ontheroad_e_1_a_c4_uk.txt', 'opequenolobo.txt', 'originalpenguin_e_2_a_1_us.txt', 'OTSonny.txt', 'outcast_e_2_b_1_us.txt', 'Outrun000.txt', 'outtamymind_e_2_b_c3d_xx.txt', 'Outtie_5001.txt', 'OverAnalyzed2.txt', 'PainSkyline.txt', 'PaniCush.txt', 'Papajoe_e_1_b_1_us.txt', 'papasours.txt', 'ParanjiniB0SS.txt', 'Paranoid_Soul.txt', 'parkerjames29.txt', 'ParkItMargarette.txt', 'Pastor_Zhao.txt', 'patch_e_1_b_1_us.txt', 'pattireit_e_2_b_1_xx.txt', 'pattymiceli_e_2_b_c3i_us.txt', 'paulfrank_e_1_b_1_xx.txt', 'paynetheplane.txt', 'Peachyplants.txt', 'pebkac_runtime_error.txt', 'peeping_tarsier.txt', 'penguinslovepenguins.txt', 'penneAlavodka.txt', 'peptodismal-.txt', 'PerryPlays_.txt', 'persekaali.txt', 'petalz86_e_2_a_c3f_au.txt', 'pete_e_1_a_c3r_xx.txt', 'petrock_e_2_ab_c4_us.txt', 'PeWaRaW.txt', 'phantomsgirl1_e_2_a_c3s_xx.txt', 'Phesoj99.txt', 'philpolish_e_1_b_1_xx.txt', 'phobee144.txt', 'PiacenzaAkashi.txt', 'pianofiend_e_2_b_1_us.txt', 'pickledtrout_e_2_a_c3d_xx.txt', 'picksleydust.txt', 'pikapikachoo.txt', 'Pineapplekingc.txt', 'pippa81_e_2_a_c3i_xx.txt', 'PirateBean.txt', 'pitchthebaby.txt', 'planyourspontaneity.txt', 'PleasantView_5.txt', 'plungergirl_e_2_a_c3c_ca.txt', 'PmMeFor-CHEAPART.txt', 'PM_Me_A_Hug_Pleease.txt', 'pm_me_sexy_napes.txt', 'PM_ME_UR_PETHAMSTER.txt', 'PM_ME_YOUR_LIFE_STRY.txt', 'podberri.txt', 'podcastaddict24.txt', 'poetndmystic_e_1_b_1_xx.txt', 'poho_e_1_a_c3f_ca.txt', 'Pointless888.txt', 'polic1.txt', 'politicalpug007.txt', 'Popodonturtoe.txt', 'poppaj006_e_1_a_c3q_xx.txt', 'popqazguy.txt', 'Porkchopous.txt', 'portoladrive.txt', 'pos69.txt', 'PosionedReality.txt', 'potaters_gon_potate.txt', 'PragmaRose.txt', 'Present_Smile.txt', 'prettybyrd82.txt', 'ProfessionalBurnout.txt', 'ProfessorMendacious.txt', 'proimize.txt', 'ProtonRequiem.txt', 'prototype1B.txt', 'PsychicFool.txt', 'psychosigma.txt', 'ptmom_e_2_b_1_xx.txt', 'Pugwan.txt', 'PunsOfDamage.txt', 'purpleclouds_e_2_b_c3m_us.txt', 'PurpleFrustrations.txt', 'Pussy_Slayer_666.txt', 'PuzzleheadedPause.txt', 'QuantumAtomicEagles.txt', 'Quarter_Pounders.txt', 'QuentinsLastStand.txt', 'Quin452.txt', 'Quirkykiwi.txt', 'quirkyuniqueusername.txt', 'r3dhorse_e_1_a_1_xx.txt', 'rackball95.txt', 'Raehvyn.txt', 'RageBoi285.txt', 'raiderfan20.txt', 'rainbowgirl_e_2_b_1_xx.txt', 'rainbowshabmagic.txt', 'rainbowteacake.txt', 'RainXD_e_2_a_c3_us.txt', 'rainyrere.txt', 'rakastuja_e_2_b_1_fi.txt', 'Rakersai.txt', 'RalphyMays.txt', 'RandomJimbo.txt', 'randomthrowaway15975.txt', 'random_normi3.txt', 'Randuser24.txt', 'RASTAPANDAFISH.txt', 'Raven977.txt', 'raven_e_1_b_1_us.txt', 'rayraybakery231.txt', 'razzle_dazzle95.txt', 'rbx22_e_1_a_c4_xx.txt', 'reaching_shadow.txt', 'ReasonableReading.txt', 'rebelyankee1_e_2_b_c3i_xx.txt', 'reburials.txt', 'recycledpaper.txt', 'reddit579.txt', 'redditgolduser900.txt', 'redgroupclan.txt', 'RedPandaBoii1156.txt', 'redwinemami.txt', 'Reeanaistic.txt', 'reedrick.txt', 'Refuse247.txt', 'RektMyAnus.txt', 'rememberthememoriez.txt', 'repsychleink_e_2_b_1_us.txt', 'Reylet20.txt', 'reypalpatine8687.txt', 'RGskate88_e_1_a_1_xx.txt', 'Rhiannonhane.txt', 'rhino98.txt', 'rianji_e_1_b_1_xx.txt', 'ricardo_e_1_b_1_us.txt', 'Rich7535.txt', 'RickyBubblesLahey.txt', 'RickyTheRipper.txt', 'RimfireGBE.txt', 'rings-of-saturn37.txt', 'ripeaches.txt', 'river_e_2_b_1_xx.txt', 'rmm6678_e_2_b_c3q_xx.txt', 'robertgraysmith.txt', 'robinson217.txt', 'rocklovely_e_2_b_c3m_xx.txt', 'Roman_85.txt', 'Rooneyr.txt', 'RosaMariposa15.txt', 'rosie_e_2_b_1_xx.txt', 'Rowdyboyz.txt', 'RoyalConnection.txt', 'Royal_Snow.txt', 'rubesboo.txt', 'Rubydacherry_.txt', 'RyanReynoldsButUgly.txt', 'Ryce__.txt', 'RyRyRhino.txt', 'RyujiSakata.txt', 'RZ-BeautifullyBroken.txt', 's3xypantz.txt', 'SadExplorer.txt', 'sadmanthrowaway11.txt', 'sadmom22_e_2_a_c3_xx.txt', 'sadmonkey_e_2_a_c3c_us.txt', 'sadness333_e_2_c_c3f_xx.txt', 'sadsoul_e_2_b_1_us.txt', 'SadSpinnered.txt', 'saharanstar_e_2_a_1_us.txt', 'sailboatsnailboat.txt', 'sailorSunbro.txt', 'SALAMl.txt', 'Salemotion101.txt', 'Salmorejo5476.txt', 'Sam1351.txt', 'SamboneyMachine.txt', 'Sammyve3.txt', 'samrazz95.txt', 'sanctusservo_e_1_a_1_us.txt', 'SandyCheeks573.txt', 'SanFrancisco_69ers.txt', 'santo_e_1_a_c4_us.txt', 'SanX1999.txt', 'sarahnicole_e_2_b_1_xx.txt', 'sarina0416_e_2_a_1_xx.txt', 'SAT01.txt', 'SatanPluto.txt', 'satuza.txt', 'say1414.txt', 'Sayoricanyouhearme.txt', 'Sb2433.txt', 'ScarletteRose187.txt', 'Scentless_Apprentice.txt', 'schizopotato.txt', 'scoobydoocue_e_1_a_c4_au.txt', 'scotlandgirl13.txt', 'Scrimby.txt', 'scrumpusrumpus.txt', 'seabulls_e_1_c_c4_us.txt', 'seaturd.txt', 'secretsofsteeze.txt', 'sedonkey.txt', 'seethissea.txt', 'selfless_shellfish.txt', 'sennafan78_e_2_b_c4_au.txt', 'Sephiroth_91.txt', 'Sephran.txt', 'Serfaty96.txt', 'SergeantPootis.txt', 'SevenFiftyNine_860_.txt', 'shadow0999_e_2_b_c3m_us.txt', 'shadowboxers808.txt', 'shadyshadex.txt', 'sharpshooter_e_1_a_1_can.txt', 'SHD25.txt', 'ShiftingStar.txt', 'shill_account192.txt', 'shilohfuckface.txt', 'Shindeil91.txt', 'shoemakerlevi.txt', 'shortamations.txt', 'showbiznesss.txt', 'ShowMeYourM0ves.txt', 'Shuffle_monk.txt', 'sickodis_e_2_a_c3g_uk.txt', 'sidstar1991.txt', 'sighnara_e_2_a_c3r_us.txt', 'SignificantOpposite1.txt', 'sikecarly.txt', 'singer57_e_2_a_c1_xx.txt', 'Single_Black_Women.txt', 'SirBungus.txt', 'sirjacob98.txt', 'sirtbone.txt', 'Sir_Helpy.txt', 'sixStringedAstronaut.txt', 'SJW_e_1_b_1_can.txt', 'skeleton_flower.txt', 'skenxis.txt', 'skiimaskk.txt', 'skiingsean_e_1_a_1_us.txt', 'SKMojo99.txt', 'skotivy.txt', 'SlayerDethKill.txt', 'sleepingonstones.txt', 'SleepyBudgie.txt', 'sleepy_lotta.txt', 'SlenderLogan.txt', 'Slickbick.txt', 'Slim666pickens.txt', 'SlimJim8511.txt', 'SloveneQueen.txt', 'slypie_e_1_b_1_xx.txt', 'smallbutrad.txt', 'smartaxe21.txt', 'smileyface_e_1_a_1_can.txt', 'smithyboi.txt', 'Smthkayla.txt', 'Snailien85.txt', 'snakecharmer123.txt', 'sNinJah.txt', 'soakingbuffalo.txt', 'soakinparticles.txt', 'soapy16541991.txt', 'SoaringPanda24.txt', 'sodone7.txt', 'sofiaskat.txt', 'Solarisonatti.txt', 'some1always.txt', 'Somegirlonlinesaid.txt', 'someguy6788.txt', 'somethingbroken.txt', 'sons_of_many_bitches.txt', 'son_bakazaru.txt', 'SoundCloudWanker.txt', 'sourpatchkidj.txt', 'spacedoll_e_1_b_1_us.txt', 'SpaceNerd42.txt', 'space_human01010.txt', 'spagettim0nsteret.txt', 'spalooshu.txt', 'Speedomeedo.txt', 'SpentTheDayInBed.txt', 'spinphantom.txt', 'spiritualgoku.txt', 'SpookyImmobilisedToe.txt', 'spudzy_e_2_a_c3g_au.txt', 'SPYK3O.txt', 'SQLwitch.txt', 'SquareThings.txt', 'srabblemaster_e_2_b_c3r_us.txt', 'ssenses.txt', 'ssmolbean.txt', 'stannyt_e_1_a_c3r_uk.txt', 'starblueeyez_e_2_a_c3g_us.txt', 'starrykitten_e_2_a_1_xx.txt', 'StarrySnowPoff.txt', 'starshaped_e_2_a_1_xx.txt', 'staticrank.txt', 'stefanie_e_2_a_c2_ca.txt', 'Stereotype321_e_2_a_c3_uk.txt', 'SteveHarveyHandlebar.txt', 'stevenalex_e_1_b_1_xx.txt', 'stewarthunter15.txt', 'stitch_e_2_b_c4_uk.txt', 'stkate_e_2_c_c2_us.txt', 'StoneColdStoner94.txt', 'Stormy1991.txt', 'StrangeStep.txt', 'StrawberrySyringe.txt', 'strawburygrls_e_2_b_1_us.txt', 'stryc9_e_2_b_c3g_xx.txt', 'Stubborn_dingus.txt', 'stupidlysuffering.txt', 'subterranean_e_2_b_1_xx.txt', 'Such_Satisfaction.txt', 'suckie123.txt', 'sugakookie16.txt', 'SuiSanoo.txt', 'Summerspeaker.txt', 'sunflower21090.txt', 'sunflowerRN_e_2_b_1_us.txt', 'sunspots22.txt', 'sup9rsymmetry.txt', 'Supermegatron15.txt', 'supermodel-robot.txt', 'superwatermelon.txt', 'SupremeDuk.txt', 'Suspicioustoad.txt', 'SvRider512.txt', 'sweetsorrow2007_e_2_a_c3r_xx.txt', 'sweetums_e_2_a_1_us.txt', 'SwordOfTruthHurts.txt', 'sXe_savior.txt', 'Sxlys.txt', 'T4blespoon.txt', 'ta56486542.txt', 'TACOEQUALSLYFE.txt', 'TacosAndTicTacs.txt', 'Tadhgainc.txt', 'taffycat_e_2_c_1_us.txt', 'taken4life_e_2_a_c1_xx.txt', 'tallorai.txt', 'tauranamics.txt', 'TaylorNichole28.txt', 'teal21.txt', 'TediousSkinPeeler.txt', 'teendepression_e_2_a_c3s_uk.txt', 'Temporaryaccount1372.txt', 'tengurin.txt', 'Terrydarko.txt', 'TessBrooke.txt', 'texack.txt', 'texasgal38_e_2_b_1_us.txt', 'texasrose_e_2_b_1_se.txt', 'ThackCankle.txt', 'thalia18_e_2_a_c3d_ca.txt', 'ThatDudeSweetness.txt', 'ThatGuy2u2.txt', 'ThatOneDork.txt', 'The-Gloomy-Owl.txt', 'The4EverAlone.txt', 'TheAgingAnus.txt', 'TheBigWhiteGiant.txt', 'thebreakingpoint47.txt', 'thedonuthasbeeneaten.txt', 'TheForgottenKaiser.txt', 'thegeekonline.txt', 'thegoldfishbowlman.txt', 'TheHungryRoot.txt', 'thekingofthejungle.txt', 'TheLapisSheep.txt', 'theletterQfivetimes.txt', 'TheNarwhalTsar.txt', 'thenascentmonarch.txt', 'theniceguy1990.txt', 'ThePersonof21.txt', 'ThePhonomancer.txt', 'Theresonly1me99.txt', 'TheRubiksGamer.txt', 'TheSaladLTO.txt', 'TheScottCharm.txt', 'theseconddennis.txt', 'TheTaZey.txt', 'thethrowaway4444.txt', 'TheTrueDuckieKing.txt', 'TheVeganLibeterian.txt', 'TheWhiteMamba98.txt', 'TheWildman111.txt', 'thewinterrsoldierr.txt', 'theyouarehere.txt', 'The_Amazing_Pizza.txt', 'The_Dad_Bod.txt', 'The_DM_es_numero_uno.txt', 'the_fantabulous.txt', 'ThickFishingLine.txt', 'thingsaIwaysgowrong.txt', 'ThisIsntMyMain456.txt', 'thorthrowrha.txt', 'throwa563.txt', 'throwaway061834.txt', 'throwaway120103.txt', 'throwaway1802360.txt', 'throwaway19982323.txt', 'throwaway2035800.txt', 'throwaway25789.txt', 'throwaway483874.txt', 'throwaway49009.txt', 'throwaway637374638.txt', 'throwaway764392528.txt', 'throwaway929383.txt', 'throwaway9876890000.txt', 'throwawayaccount1202.txt', 'ThrowAwayAcount9867.txt', 'throwawayastray.txt', 'throwawaybecausenone.txt', 'throwawaychristmas-y.txt', 'throwawaydptcom.txt', 'ThrowawayHelpMe2018.txt', 'throwawayhuman0000.txt', 'throwawaynv7573848.txt', 'throwawayvoltorb.txt', 'throwban.txt', 'throwerly.txt', 'Throwmeinagrave.txt', 'Throwthrow19424.txt', 'throw_1t_away1.txt', 'throw_away743.txt', 'ThruThroAway.txt', 'thundercat95.txt', 'tim1967_e_1_b_1_uk.txt', 'timebomb01_e_1_a_c4_xx.txt', 'timewaster_.txt', 'tinybaby111_e_2_b_c3r_xx.txt', 'tinydog360.txt', 'tinyinthegrandscheme.txt', 'Titanic609.txt', 'tkl3725_e_1_b_1_xx.txt', 'tkneil131.txt', 'TkopeDubRave.txt', 'tlmorowsky_e_2_a_1_us.txt', 'Tnbn22.txt', 'tnt1993.txt', 'toBrethO.txt', 'tofuonplate.txt', 'tokyokyotonagoya.txt', 'TombLord.txt', 'tommyd_e_1_b_1_xx.txt', 'tonightelvisisdead.txt', 'topi90.txt', 'torlek1_e_1_b_c3m_us.txt', 'Torque1356.txt', 'tortorxD.txt', 'TortTheRi.txt', 'toshinoba.txt', 'ToxicHuman91.txt', 'tracyh_e_2_b_1_uk.txt', 'TrademarkedLobster.txt', 'Trapnova.txt', 'treebucks.txt', 'tricermetops.txt', 'Trinity_e_2_b_1_uk.txt', 'TripalMentalillness.txt', 'Truly102.txt', 'Trumptrain007.txt', 'TryingMyBestOK.txt', 'trying_e_2_a_c4_us.txt', 'Tryphenatheweiner.txt', 'TurtleP3ANUTS.txt', 'turtlesenpai_.txt', 'turtleshuriken.txt', 'turtlessayrawr.txt', 'TurtleTheAnon.txt', 'tvk_e_2_b_1_us.txt', 'twardowka.txt', 'twilightzephyr_e_2_a_1_xx.txt', 'twistedemotions_e_1_b_1_xx.txt', 'tw_davies.txt', 'Tyceshirrell1.txt', 'TylerD716.txt', 'TyrionTorreto.txt', 'ucaliptastree.txt', 'ugly_depressed_guy.txt', 'Ultralight_Cream.txt', 'ume143_e_2_b_c3c_xx.txt', 'UncleOdious.txt', 'undertakerx_e_1_a_c3i_us.txt', 'unemployedneet.txt', 'unescortedflakecake.txt', 'unflinchinglyhonest_e_a_1_us.txt', 'unhallowedsin.txt', 'unibear007.txt', 'unicorn-pudding.txt', 'universalvoid87.txt', 'unpollutedfantasy.txt', 'unrelatedtext.txt', 'UnsociaBull.txt', 'ununumus.txt', 'Unwoven_Sleeve.txt', 'urali.txt', 'user1444.txt', 'Usernamewhatever888.txt', 'uttol.txt', 'utybo.txt', 'vaginabeater.txt', 'valiumhippy.txt', 'vanya_e_2_b_c4_ca.txt', 'veena_v.txt', 'Veesabelle.txt', 'Velixan115.txt', 'vervexer212.txt', 'vetoyou.txt', 'Vexxyus.txt', 'VeyCanC.txt', 'vhol.txt', 'violeta_e_2_b_1_xx.txt', 'virgin_screwdriver.txt', 'VitalSignColdHands.txt', 'viviane_e_2_b_1_uk.txt', 'vivosmith.txt', 'vmarnar.txt', 'vterinkevin.txt', 'w00dbutcher.txt', 'Wabbadabbo.txt', 'Wacko_Leader.txt', 'waffenssgolem.txt', 'wakanda101.txt', 'wannaBoptimist_e_2_b_c4_ca.txt', 'wantstobehappy_e_2_b_c3f_us.txt', 'wastebin19.txt', 'Waterlingue.txt', 'WaterVapor_.txt', 'watto127.txt', 'WeAreAllDyingSlowly.txt', 'weddz.txt', 'wehappyfeww.txt', 'Weirdgirlnames.txt', 'Weiser17.txt', 'wellwhat_e_1_b_c3d_xx.txt', 'WhelpLookAtTheTime.txt', 'WhichMonkeyIsBest.txt', 'Whiskey_Sweet.txt', 'WhiteFurRedEyes.txt', 'whiteranger_2000.txt', 'who_am_eye27.txt', 'who_i_was.txt', 'why1202_e_2_b_1_xx.txt', 'whydoeee.txt', 'Whydontyoutalktome.txt', 'whykn@t_e_1_b_1_uk.txt', 'Whyohwhy-.txt', 'WidePerception.txt', 'WildlifeAnalysis.txt', 'wilkinsi_e_1_b_c3m_uk.txt', 'willgames11.txt', 'willgodeverforgiveme.txt', 'WilliamWallace2K14.txt', 'willy53_e_2_c_1_xx.txt', 'wiltedrose39_e_2_c_1_us.txt', 'windowskeleton314.txt', 'wishlvce.txt', 'Wishywashyme.txt', 'witticizm_e_2_b_c3w_us.txt', 'wlspqm.txt', 'wolfram_e_1_b_1_us.txt', 'wondersusheu.txt', 'workity_work.txt', 'Worldly96.txt', 'woundeddove_e_2_b_1_us.txt', 'wqipcrp_e_1_b_1_us.txt', 'Wraynefosterpodcast.txt', 'writerz1_e_2_a_c3q_us.txt', 'Wuinx.txt', 'xavierdc.txt', 'xiscr.txt', 'xrc04x_e_2_a_c3c_us.txt', 'XxGoku-BlackxX.txt', 'xxplict99.txt', 'y0zaaa.txt', 'yams777.txt', 'YanaCorleone.txt', 'yawaworht-forstuff.txt', 'yeahihaveissues.txt', 'YeezyYeezyHow.txt', 'yellowplastic.txt', 'YellowVortex.txt', 'Yelov.txt', 'Yendoro.txt', 'YesWomansLand.txt', 'yevgenny0000_e_2_a_1_xx.txt', 'yjrokaboom.txt', 'yodawgIseeyou.txt', 'Yoggy52.txt', 'youaresospecial.txt', 'youfkinwhatlad.txt', 'young_saltmachine.txt', 'YourAmigoAM.txt', 'yourgirlalex.txt', 'YourLongLostDad.txt', 'YouWantALime.txt', 'youzz33.txt', 'ypisulon.txt', 'yrustergg.txt', 'yucatchmydrift.txt', 'zacatak98_e_1_b_c3d_xx.txt', 'ZaceZazzmablazz.txt', 'zachsgirl06_e_2_a_c1_xx.txt', 'zachwon1.txt', 'Zarakava.txt', 'zedaycee.txt', 'Zeddeus.txt', 'zelz100.txt', 'zena_e_2_b_1_xx.txt', 'Zeruvi.txt', 'ze_baco.txt', 'zflo29.txt', 'ZLeva.txt', 'zoeyellowsweet.txt', 'zombiestrider.txt', '[deleted].txt', '_Harley-Quinn_.txt', '_lifesucks_.txt', '_MyOpinion_.txt', '_slothattack_.txt', '____SPIDERWOMAN____.txt']\n"
     ]
    },
    {
     "data": {
      "text/plain": [
       "1683"
      ]
     },
     "execution_count": 25,
     "metadata": {},
     "output_type": "execute_result"
    }
   ],
   "source": [
    "# get the list of text file names\n",
    "print(os.listdir(DATA_Y))\n",
    "len(os.listdir(DATA_Y))"
   ]
  },
  {
   "cell_type": "code",
   "execution_count": 26,
   "id": "eff9329b",
   "metadata": {},
   "outputs": [
    {
     "name": "stdout",
     "output_type": "stream",
     "text": [
      "['-wowalker.txt', '016124throwaway.txt', '1016787.200408030.female.24.txt', '1016787.200408031.female.24.txt', '1016787.200408032.female.24.txt', '1016787.200408033.female.24.txt', '11100011100010.txt', '1169580.200302040.female.44.txt', '1169580.200407170.female.44.txt', '1169580.200407200.female.44.txt', '1298865.200407050.female.39.txt', '1298865.200407070.female.39.txt', '143_1433_.txt', '1444263.200304280.female.17.txt', '1444263.200405210.female.17.txt', '1444263.200406110.female.17.txt', '1606938170.txt', '1846741.200312180.female.37.txt', '1846741.200408090.female.37.txt', '1846741.200408110.female.37.txt', '1cognoscere.txt', '2020552.200407222.male.24.txt', '2020552.200407224.male.24.txt', '2020552.200407230.male.24.txt', '2020552.200407231.male.24.txt', '2020552.200407250.male.24.txt', '2021512l.txt', '2360753.200406170.male.25.txt', '2360753.200406210.male.25.txt', '2360753.200406220.male.25.txt', '2360753.200406230.male.25.txt', '2360753.200406250.male.25.txt', '2360753.200406300.male.25.txt', '2360753.200407060.male.25.txt', '2428393.200404240.female.17.txt', '2428393.200404241.female.17.txt', '2428393.200404270.female.17.txt', '2428393.200405281.female.17.txt', '2441224.200407240.female.26.txt', '2441224.200407260.female.26.txt', '2552845.200406020.male.15.txt', '2552845.200406030.male.15.txt', '2552845.200406040.male.15.txt', '2840286.200408020.female.23.txt', '2840286.200408021.female.23.txt', '2911399.200407241.male.15.txt', '3035529.200406300.male.37.txt', '3035529.200406301.male.37.txt', '3229611.200406170.female.13.txt', '3229611.200406270.female.13.txt', '3295265.200405110.male.23.txt', '3295265.200405180.male.23.txt', '3295569.200405110.female.14.txt', '3295569.200405111.female.14.txt', '3295569.200405120.female.14.txt', '3295569.200405250.female.14.txt', '3295569.200405260.female.14.txt', '3302367.200405110.male.37.txt', '3302367.200405170.male.37.txt', '3302427.200405110.male.26.txt', '3302427.200407190.male.26.txt', '3305140.200405110.male.17.txt', '3305140.200405111.male.17.txt', '3305140.200405140.male.17.txt', '3305140.200405160.male.17.txt', '3311002.200405110.male.17.txt', '3311002.200405111.male.17.txt', '3311002.200405120.male.17.txt', '3311843.200405120.male.41.txt', '3311843.200405121.male.41.txt', '3311843.200405122.male.41.txt', '3311843.200405240.male.41.txt', '3311843.200406242.male.41.txt', '3314642.200405120.female.42.txt', '3315304.200405110.male.17.txt', '3315304.200405120.male.17.txt', '3315304.200405130.male.17.txt', '3315556.200405240.male.36.txt', '3315556.200406210.male.36.txt', '3315556.200407020.male.36.txt', '3316883.200405120.male.26.txt', '3316883.200406050.male.26.txt', '3316883.200406080.male.26.txt', '33171228sP.txt', '3317977.200405140.male.48.txt', '3317977.200405141.male.48.txt', '3317977.200405160.male.48.txt', '3334868.200405130.male.23.txt', '3334868.200405300.male.23.txt', '3334868.200406140.male.23.txt', '3335282.200405300.male.15.txt', '3335282.200406020.male.15.txt', '3335282.200407120.male.15.txt', '3337697.200405130.female.41.txt', '3337697.200406300.female.41.txt', '3337906.200405130.female.26.txt', '3337906.200405131.female.26.txt', '3337906.200405140.female.26.txt', '3337906.200405160.female.26.txt', '3343837.200405140.male.24.txt', '3343837.200407280.male.24.txt', '3345412.200408060.male.16.txt', '3345412.200408061.male.16.txt', '3345412.200408062.male.16.txt', '3347863.200405150.male.23.txt', '3347863.200405170.male.23.txt', '3347863.200406050.male.23.txt', '3356291.200408020.male.24.txt', '3356291.200408021.male.24.txt', '3359838.200405160.female.45.txt', '3359838.200405161.female.45.txt', '3359838.200405162.female.45.txt', '3359838.200406122.female.45.txt', '3361810.200405160.male.16.txt', '3371386.200405161.male.17.txt', '3371386.200405170.male.17.txt', '3371386.200405171.male.17.txt', '3371386.200405180.male.17.txt', '3374593.200405180.female.23.txt', '3374593.200405190.female.23.txt', '3375335.200405180.female.24.txt', '3375335.200405210.female.24.txt', '3377802.200405270.female.13.txt', '3377802.200406010.female.13.txt', '3377802.200406011.female.13.txt', '3377802.200406012.female.13.txt', '3377802.200406013.female.13.txt', '3377802.200406030.female.13.txt', '3379405.200405190.female.25.txt', '3379405.200407020.female.25.txt', '3381959.200405180.female.24.txt', '3381959.200405181.female.24.txt', '3381959.200405190.female.24.txt', '3382046.200406010.male.36.txt', '3382701.200405190.female.17.txt', '3391844.200407260.female.48.txt', '3392843.200405190.male.15.txt', '3401372.200405200.male.16.txt', '3401372.200406180.male.16.txt', '3401372.200407140.male.16.txt', '3403340.200405200.male.15.txt', '3403340.200405230.male.15.txt', '3403340.200405270.male.15.txt', '3403474.200405200.female.15.txt', '3403474.200405210.female.15.txt', '3407543.000000000.male.26.txt', '3407543.200405210.male.26.txt', '3407543.200405211.male.26.txt', '3416398.000000000.male.16.txt', '3417527.200405210.male.16.txt', '3417527.200405211.male.16.txt', '3417527.200405220.male.16.txt', '3422545.200405220.female.33.txt', '3422545.200406040.female.33.txt', '3422545.200406110.female.33.txt', '3422592.200405230.female.14.txt', '3427006.200405220.male.17.txt', '3427006.200405230.male.17.txt', '3431053.200405230.female.15.txt', '3431053.200405231.female.15.txt', '3431201.200405230.female.16.txt', '3431201.200405280.female.16.txt', '3431201.200406180.female.16.txt', '3435442.200405230.female.24.txt', '3435442.200405231.female.24.txt', '3435442.200405270.female.24.txt', '3438321.200405240.male.23.txt', '3441406.200405240.male.15.txt', '3441406.200405250.male.15.txt', '3446048.200405240.male.13.txt', '3447616.200405250.male.15.txt', '3447776.200405250.male.26.txt', '3451235.200405250.female.24.txt', '3451235.200405270.female.24.txt', '3452951.200405250.female.25.txt', '3452951.200405251.female.25.txt', '3455118.200405250.female.17.txt', '3455118.200405260.female.17.txt', '3455118.200405280.female.17.txt', '3471722.200405270.female.14.txt', '3490080.200405300.female.24.txt', '3490080.200406010.female.24.txt', '3490080.200406080.female.24.txt', '3490345.200405300.male.17.txt', '3490345.200405301.male.17.txt', '3492462.200405290.female.42.txt', '3492462.200406050.female.42.txt', '3492896.200405290.female.14.txt', '3492896.200405300.female.14.txt', '3492896.200406020.female.14.txt', '3492896.200406090.female.14.txt', '3492896.200406110.female.14.txt', '3497723.200405300.female.26.txt', '3501607.200405310.male.15.txt', '3501607.200406260.male.15.txt', '3501607.200406261.male.15.txt', '3501607.200406262.male.15.txt', '3501844.200405300.male.25.txt', '3501844.200405310.male.25.txt', '3503949.200405310.female.13.txt', '3503949.200405311.female.13.txt', '3506883.200405310.male.14.txt', '3506883.200405311.male.14.txt', '3506883.200405312.male.14.txt', '3506883.200405313.male.14.txt', '3506883.200405314.male.14.txt', '3510068.200405310.female.25.txt', '3517315.200406010.female.23.txt', '3517315.200406110.female.23.txt', '3519439.200407150.male.24.txt', '3519439.200407151.male.24.txt', '3519439.200407190.male.24.txt', '3519651.200406010.female.15.txt', '3519651.200406020.female.15.txt', '3519830.200406010.male.16.txt', '3519830.200406300.male.16.txt', '3523199.200406020.male.33.txt', '3523199.200406030.male.33.txt', '3526907.200406020.female.27.txt', '3530783.200406030.male.16.txt', '3533332.200406030.male.17.txt', '3533332.200406031.male.17.txt', '3533332.200406050.male.17.txt', '3535782.200406040.male.25.txt', '3535782.200406041.male.25.txt', '3535782.200406050.male.25.txt', '3535782.200406060.male.25.txt', '3535782.200406070.male.25.txt', '3540974.200406030.female.23.txt', '3540974.200406070.female.23.txt', '3540974.200406160.female.23.txt', '3544697.200406040.female.24.txt', '3544864.200406040.female.33.txt', '3545843.200406040.male.17.txt', '3545843.200406050.male.17.txt', '3545843.200406090.male.17.txt', '3545843.200406120.male.17.txt', '3545843.200406140.male.17.txt', '3545843.200406200.male.17.txt', '3545843.200407170.male.17.txt', '3547279.200406040.female.27.txt', '3549979.200406050.female.16.txt', '3552415.200406060.male.25.txt', '3552415.200406061.male.25.txt', '3552415.200406070.male.25.txt', '3552415.200406080.male.25.txt', '3553522.200406100.female.16.txt', '3553522.200406101.female.16.txt', '3553522.200406120.female.16.txt', '3553522.200407011.female.16.txt', '3554068.200406050.female.26.txt', '3554508.200406050.female.15.txt', '3554508.200406051.female.15.txt', '3554508.200406060.female.15.txt', '3554508.200406080.female.15.txt', '3554508.200406100.female.15.txt', '3554508.200406200.female.15.txt', '3554951.200406050.female.14.txt', '3558115.200406060.female.25.txt', '3560815.200406061.female.13.txt', '3560815.200406062.female.13.txt', '3560815.200406063.female.13.txt', '3560815.200406070.female.13.txt', '3563331.200406060.female.17.txt', '3563331.200406100.female.17.txt', '3563687.200407300.female.24.txt', '3563820.200406060.female.27.txt', '3565664.200406071.female.35.txt', '3565664.200406072.female.35.txt', '3568103.200402170.female.16.txt', '3570196.200406070.female.24.txt', '3575447.200406090.male.24.txt', '3576915.200408030.male.15.txt', '3576915.200408031.male.15.txt', '3577655.200406090.female.17.txt', '3577655.200406091.female.17.txt', '3577655.200406092.female.17.txt', '3577655.200406100.female.17.txt', '3587804.200406150.female.26.txt', '3590217.200406090.male.35.txt', '3593337.200406090.male.16.txt', '3593337.200406110.male.16.txt', '3598042.200406100.male.15.txt', '3598042.200406101.male.15.txt', '3598042.200406102.male.15.txt', '3598042.200406110.male.15.txt', '3598042.200406140.male.15.txt', '3602510.200406100.female.14.txt', '3602510.200406101.female.14.txt', '3603229.200406100.male.15.txt', '3603229.200406110.male.15.txt', '3603229.200406120.male.15.txt', '3608331.200406110.female.27.txt', '3611552.200408080.male.16.txt', '3616647.200406120.female.13.txt', '3616647.200406250.female.13.txt', '3617048.200406130.female.15.txt', '3617048.200406220.female.15.txt', '3617048.200406270.female.15.txt', '3630523.200406170.female.17.txt', '3630523.200406180.female.17.txt', '3631832.200406140.female.23.txt', '3632734.200406250.male.26.txt', '3644523.200406150.male.33.txt', '3644523.200406160.male.33.txt', '3647284.200406150.male.48.txt', '3647294.200407180.male.16.txt', '3647294.200407181.male.16.txt', '3647294.200407182.male.16.txt', '3647416.200406150.female.23.txt', '3647416.200406160.female.23.txt', '3647416.200407150.female.23.txt', '3649350.200406170.female.24.txt', '3649350.200406230.female.24.txt', '3649624.200406150.male.16.txt', '3649624.200406160.male.16.txt', '3649936.200406161.male.16.txt', '3649936.200406162.male.16.txt', '3649936.200406210.male.16.txt', '3649936.200406211.male.16.txt', '3649936.200406250.male.16.txt', '3654216.200406160.female.25.txt', '3654216.200406161.female.25.txt', '3654216.200406180.female.25.txt', '3659698.200406160.female.26.txt', '3659698.200406161.female.26.txt', '3659698.200406210.female.26.txt', '365NewWaysToHug.txt', '3660840.200406170.female.16.txt', '3660840.200406171.female.16.txt', '3660840.200406172.female.16.txt', '3661106.200406160.female.16.txt', '3661106.200406161.female.16.txt', '3661106.200406180.female.16.txt', '3662672.200406170.male.15.txt', '3667344.200406170.female.27.txt', '3667344.200406171.female.27.txt', '3667344.200406290.female.27.txt', '3667344.200407041.female.27.txt', '3667344.200407221.female.27.txt', '3670070.200406170.female.17.txt', '3671889.200406170.male.37.txt', '3671889.200406200.male.37.txt', '3671931.200406170.male.16.txt', '3671931.200406171.male.16.txt', '3671931.200406210.male.16.txt', '3672765.200406190.male.13.txt', '3672765.200407050.male.13.txt', '3672765.200407140.male.13.txt', '3673520.200406170.female.25.txt', '3673520.200406171.female.25.txt', '3677409.200406180.female.25.txt', '3679599.200406250.female.26.txt', '3679599.200406280.female.26.txt', '3679599.200407070.female.26.txt', '3683214.200407260.male.16.txt', '3683214.200407270.male.16.txt', '3683214.200408120.male.16.txt', '3683214.200408121.male.16.txt', '3688178.200406210.female.40.txt', '3689362.200406190.female.16.txt', '3689362.200406191.female.16.txt', '3689362.200406230.female.16.txt', '3689362.200407011.female.16.txt', '3689362.200407091.female.16.txt', '3690800.200406200.male.25.txt', '3690800.200407060.male.25.txt', '3693595.200406200.male.14.txt', '3693595.200406201.male.14.txt', '3693595.200406301.male.14.txt', '3693595.200407011.male.14.txt', '3698032.200407160.male.26.txt', '3706467.200406210.female.13.txt', '3707278.200406210.female.16.txt', '3707500.200407010.male.24.txt', '3710825.200406220.male.26.txt', '3710825.200406230.male.26.txt', '3716366.200406220.female.25.txt', '3716366.200407020.female.25.txt', '3718137.200406220.female.24.txt', '3718137.200407180.female.24.txt', '3718137.200407250.female.24.txt', '3719618.200406220.female.24.txt', '3722634.200406220.male.14.txt', '3722634.200406230.male.14.txt', '3722636.200406220.male.17.txt', '3722636.200406270.male.17.txt', '3722636.200407200.male.17.txt', '3724080.200406220.male.14.txt', '3727613.200406230.female.15.txt', '3727613.200406231.female.15.txt', '3727613.200406232.female.15.txt', '3727613.200406233.female.15.txt', '3728254.200406250.male.15.txt', '3739942.200406240.female.15.txt', '3739942.200406270.female.15.txt', '3741966.200406240.female.43.txt', '3742931.200406240.female.45.txt', '3742931.200406250.female.45.txt', '3745162.200407150.female.17.txt', '3750679.200406250.female.46.txt', '3750679.200406260.female.46.txt', '3758260.200406260.male.16.txt', '3758260.200407060.male.16.txt', '3758260.200407090.male.16.txt', '3758260.200408100.male.16.txt', '3760782.200406260.female.15.txt', '3760782.200406270.female.15.txt', '3765313.200406270.male.27.txt', '3765313.200406280.male.27.txt', '3765313.200406290.male.27.txt', '3765313.200407010.male.27.txt', '3765313.200407240.male.27.txt', '3768730.200406280.male.33.txt', '3768730.200407160.male.33.txt', '3770150.200406270.female.27.txt', '3775837.200406280.male.16.txt', '3775837.200406281.male.16.txt', '3779062.200406280.female.24.txt', '3779062.200407190.female.24.txt', '3779062.200407240.female.24.txt', '3779062.200407300.female.24.txt', '3779062.200408130.female.24.txt', '3785049.200406280.male.42.txt', '3785049.200406290.male.42.txt', '3786388.200406280.male.17.txt', '3786388.200406290.male.17.txt', '3786388.200408100.male.17.txt', '3786388.200408101.male.17.txt', '3786438.200406280.male.23.txt', '3786438.200406300.male.23.txt', '3789484.200406290.male.34.txt', '3789484.200407090.male.34.txt', '3789484.200408030.male.34.txt', '3789484.200408060.male.34.txt', '3789484.200408080.male.34.txt', '3795279.200406290.male.27.txt', '3795279.200406291.male.27.txt', '3795279.200406292.male.27.txt', '3802599.200406300.male.24.txt', '3802599.200406301.male.24.txt', '3802599.200407031.male.24.txt', '3802599.200407071.male.24.txt', '3805868.200407060.female.34.txt', '3805868.200407061.female.34.txt', '3810213.200406300.female.34.txt', '3815497.200407010.female.16.txt', '3816343.200407010.female.14.txt', '3816343.200407240.female.14.txt', '3816343.200408130.female.14.txt', '3816343.200408140.female.14.txt', '3819977.200407120.female.23.txt', '3819977.200407140.female.23.txt', '3823578.200407080.male.16.txt', '3823578.200407210.male.16.txt', '3823888.200407020.male.15.txt', '3823888.200407030.male.15.txt', '3823888.200407040.male.15.txt', '3823888.200407060.male.15.txt', '3824064.200407020.female.16.txt', '3826700.200407020.male.17.txt', '3828451.200407020.female.16.txt', '3828451.200407040.female.16.txt', '3831111.200407030.female.14.txt', '3831111.200407050.female.14.txt', '3833033.200408150.female.46.txt', '3833033.200408151.female.46.txt', '3833525.200408060.male.16.txt', '3833869.200407030.female.17.txt', '3850034.200407070.female.25.txt', '3850034.200407110.female.25.txt', '3859989.200407060.female.33.txt', '3859989.200407090.female.33.txt', '3864625.200407130.female.13.txt', '3866794.200407070.female.14.txt', '3868312.200407120.male.25.txt', '3870399.200407080.female.26.txt', '3870399.200407090.female.26.txt', '3870399.200407130.female.26.txt', '3870399.200407160.female.26.txt', '3870462.200407080.male.24.txt', '3870462.200407090.male.24.txt', '3872874.200407080.female.23.txt', '3874102.200407080.female.16.txt', '3874102.200407081.female.16.txt', '3874102.200407090.female.16.txt', '3877337.200407080.male.17.txt', '3877337.200407081.male.17.txt', '3877337.200407120.male.17.txt', '3877921.200407080.female.16.txt', '3877921.200408130.female.16.txt', '3877921.200408131.female.16.txt', '3878872.200407090.female.16.txt', '3878986.200407100.female.45.txt', '3878986.200407101.female.45.txt', '3878986.200407121.female.45.txt', '3882223.200407090.male.16.txt', '3882223.200407120.male.16.txt', '3883537.200407090.female.13.txt', '3883537.200407100.female.13.txt', '3885617.200407090.female.16.txt', '3889415.200407100.female.41.txt', '3893179.200407100.male.14.txt', '3893179.200407160.male.14.txt', '3893179.200407170.male.14.txt', '3893179.200407210.male.14.txt', '3896598.200407110.female.33.txt', '3896598.200407140.female.33.txt', '3901881.200407110.female.15.txt', '3901881.200407140.female.15.txt', '3901881.200408130.female.15.txt', '3906852.200407120.male.26.txt', '3908639.200407120.male.26.txt', '3908639.200407200.male.26.txt', '3908639.200407210.male.26.txt', '3910778.200407120.female.24.txt', '3910778.200407240.female.24.txt', '3910778.200407310.female.24.txt', '3910778.200408040.female.24.txt', '3912370.200407120.male.33.txt', '3915930.200407130.male.13.txt', '3915930.200407131.male.13.txt', '3915930.200407140.male.13.txt', '3915930.200408041.male.13.txt', '3921183.200407130.male.17.txt', '3921183.200408090.male.17.txt', '3922522.200407130.female.17.txt', '3922549.200407130.male.23.txt', '3922549.200407140.male.23.txt', '3924311.200407140.male.27.txt', '3924311.200407160.male.27.txt', '3926372.200407310.male.26.txt', '3931473.200407141.female.26.txt', '3931473.200407150.female.26.txt', '3931473.200407170.female.26.txt', '3931865.200407140.female.23.txt', '3931865.200407141.female.23.txt', '3932271.200407140.female.25.txt', '3949642.200407160.male.25.txt', '3949642.200407170.male.25.txt', '3953885.200407170.male.37.txt', '3953885.200407190.male.37.txt', '3954575.200407170.female.23.txt', '3954575.200407171.female.23.txt', '3960391.200407180.male.14.txt', '3960391.200407181.male.14.txt', '3960391.200407190.male.14.txt', '3962694.200407270.female.24.txt', '3963778.200407180.male.16.txt', '3963778.200407210.male.16.txt', '3967275.200407040.male.14.txt', '3967275.200407180.male.14.txt', '3970994.200407190.male.23.txt', '3970994.200407200.male.23.txt', '3972364.200407190.female.23.txt', '3972364.200407191.female.23.txt', '3972878.200407190.male.25.txt', '3974221.200407190.male.17.txt', '3974532.200407190.male.27.txt', '3974532.200407200.male.27.txt', '3978972.200407190.male.17.txt', '3978972.200407200.male.17.txt', '3978972.200407210.male.17.txt', '3979155.200407200.male.15.txt', '3979155.200408070.male.15.txt', '3981555.200407210.male.17.txt', '3981555.200408040.male.17.txt', '3983558.200407200.female.14.txt', '3983558.200407201.female.14.txt', '3983558.200407220.female.14.txt', '3983707.200407190.female.13.txt', '3984669.200407200.male.24.txt', '3984669.200408110.male.24.txt', '3984669.200408140.male.24.txt', '3986070.200407200.female.15.txt', '3986070.200407240.female.15.txt', '3986070.200407241.female.15.txt', '3986202.200407200.female.14.txt', '3986202.200407260.female.14.txt', '3986202.200407290.female.14.txt', '3986202.200408040.female.14.txt', '3986202.200408070.female.14.txt', '3988394.200407210.male.25.txt', '3988394.200407220.male.25.txt', '3988394.200407240.male.25.txt', '3988535.200408010.male.17.txt', '3988535.200408011.male.17.txt', '3988535.200408050.male.17.txt', '3988535.200408100.male.17.txt', '3990392.200407210.male.16.txt', '3990392.200407220.male.16.txt', '3992977.200407210.female.15.txt', '3992977.200407260.female.15.txt', '3992977.200407280.female.15.txt', '3992977.200408020.female.15.txt', '3996944.200407210.male.16.txt', '3996944.200407220.male.16.txt', '3996944.200408070.male.16.txt', '4000282.200407220.female.25.txt', '4007265.200408020.male.13.txt', '4012951.200407230.male.47.txt', '4018447.200407230.female.26.txt', '4018447.200407250.female.26.txt', '4018447.200408130.female.26.txt', '4021693.200407240.female.17.txt', '4021693.200407241.female.17.txt', '4021693.200407242.female.17.txt', '4021693.200407243.female.17.txt', '4021693.200407250.female.17.txt', '4021693.200407260.female.17.txt', '4023044.200407240.female.24.txt', '4023044.200407241.female.24.txt', '4033451.200407250.female.42.txt', '4034874.200407290.female.15.txt', '4034874.200408050.female.15.txt', '4035063.200407250.male.17.txt', '4035306.200407253.female.17.txt', '4035306.200407290.female.17.txt', '4035306.200407291.female.17.txt', '4035306.200407292.female.17.txt', '4035306.200407310.female.17.txt', '4035306.200408013.female.17.txt', '4035637.200407260.male.16.txt', '4035637.200407261.male.16.txt', '4035637.200408021.male.16.txt', '4036166.200407260.male.16.txt', '4036166.200407270.male.16.txt', '4036952.200407270.male.26.txt', '4036952.200407310.male.26.txt', '4037911.200407260.female.25.txt', '4037911.200407280.female.25.txt', '4037911.200407290.female.25.txt', '4037911.200408150.female.25.txt', '4037911.200408180.female.25.txt', '4039579.200407260.female.25.txt', '4039579.200408050.female.25.txt', '4041581.200407260.female.26.txt', '4042386.200407260.male.25.txt', '4042386.200407270.male.25.txt', '4042386.200407290.male.25.txt', '4042386.200408080.male.25.txt', '4042588.200407260.female.15.txt', '4042588.200407261.female.15.txt', '4049704.200407270.male.27.txt', '4049704.200408030.male.27.txt', '4049756.200407270.female.25.txt', '4049756.200408020.female.25.txt', '4053394.200407280.male.17.txt', '4056808.200408030.female.23.txt', '4056808.200408031.female.23.txt', '4058790.200407280.female.14.txt', '4059801.200406280.male.17.txt', '4059801.200406281.male.17.txt', '4065478.200407280.female.25.txt', '4065478.200407281.female.25.txt', '4065478.200407282.female.25.txt', '4068606.200407280.female.17.txt', '4069224.200407290.male.15.txt', '4069224.200407291.male.15.txt', '4069224.200407310.male.15.txt', '4069224.200408011.male.15.txt', '4069224.200408071.male.15.txt', '4073036.200407290.male.15.txt', '4074531.200407290.male.16.txt', '4074531.200407291.male.16.txt', '4074531.200408031.male.16.txt', '4089416.200407310.female.14.txt', '4089416.200407311.female.14.txt', '4092085.200407300.male.16.txt', '4092085.200407301.male.16.txt', '4092085.200407302.male.16.txt', '4092085.200407310.male.16.txt', '4092085.200408062.male.16.txt', '4092173.200407300.male.25.txt', '4092173.200407301.male.25.txt', '4092183.200408030.male.17.txt', '4092183.200408060.male.17.txt', '4092183.200408120.male.17.txt', '4092183.200408160.male.17.txt', '4093309.200407300.female.16.txt', '4093309.200407301.female.16.txt', '4093309.200407302.female.16.txt', '4093309.200407310.female.16.txt', '4093309.200408062.female.16.txt', '4096204.200407310.female.17.txt', '4097391.200407310.female.16.txt', '4097391.200408030.female.16.txt', '4097391.200408040.female.16.txt', '4097391.200408060.female.16.txt', '4097391.200408080.female.16.txt', '4101975.200408010.female.25.txt', '4101975.200408011.female.25.txt', '4105783.200408011.female.15.txt', '4105783.200408031.female.15.txt', '4105783.200408040.female.15.txt', '4105783.200408041.female.15.txt', '4107980.200408010.male.24.txt', '4107980.200408020.male.24.txt', '4107980.200408050.male.24.txt', '4107980.200408180.male.24.txt', '4108280.200408010.male.35.txt', '4108280.200408080.male.35.txt', '4108280.200408100.male.35.txt', '4110274.200408010.male.17.txt', '4110274.200408030.male.17.txt', '4116243.200408020.female.24.txt', '4116243.200408040.female.24.txt', '4119658.200408030.male.25.txt', '4119658.200408050.male.25.txt', '4123990.200408030.female.17.txt', '4126510.200408030.male.26.txt', '4126510.200408050.male.26.txt', '4126510.200408090.male.26.txt', '4127825.200408030.male.14.txt', '4129182.200408030.male.43.txt', '4129182.200408040.male.43.txt', '4129182.200408190.male.43.txt', '4129549.200408030.male.16.txt', '4129549.200408080.male.16.txt', '4129815.200408030.female.13.txt', '4130768.200408030.male.16.txt', '4130768.200408031.male.16.txt', '4130768.200408032.male.16.txt', '4130768.200408033.male.16.txt', '4130768.200408034.male.16.txt', '4130768.200408036.male.16.txt', '4137740.200408060.female.47.txt', '4138246.200408040.female.27.txt', '4138246.200408050.female.27.txt', '4141228.200408040.female.17.txt', '4141228.200408170.female.17.txt', '4142755.200408040.female.17.txt', '4142755.200408070.female.17.txt', '4144183.200408050.female.17.txt', '4144183.200408070.female.17.txt', '4144183.200408150.female.17.txt', '4144687.200408050.female.25.txt', '4144687.200408060.female.25.txt', '4147222.200408050.male.24.txt', '4147222.200408051.male.24.txt', '4148427.200408050.female.27.txt', '4148427.200408090.female.27.txt', '4155846.200408060.female.14.txt', '4155846.200408061.female.14.txt', '4156434.200408060.female.23.txt', '4156434.200408061.female.23.txt', '4156442.200408060.female.26.txt', '4156442.200408110.female.26.txt', '4158987.200408070.female.13.txt', '4158987.200408071.female.13.txt', '4168141.200408090.male.15.txt', '4168141.200408091.male.15.txt', '4169876.200408080.female.14.txt', '4169876.200408100.female.14.txt', '4169876.200408110.female.14.txt', '4173756.200408080.male.14.txt', '4173756.200408090.male.14.txt', '4173756.200408100.male.14.txt', '4175117.200408080.female.17.txt', '4175117.200408090.female.17.txt', '4177375.200408080.female.14.txt', '4177375.200408090.female.14.txt', '4177375.200408100.female.14.txt', '4178251.200408110.male.16.txt', '4179573.200408090.female.15.txt', '4179573.200408100.female.15.txt', '4179573.200408190.female.15.txt', '4180269.200408210.female.23.txt', '4180269.200408220.female.23.txt', '4181173.200408090.male.35.txt', '4181832.200408110.male.26.txt', '4181832.200408130.male.26.txt', '4184053.200408090.female.15.txt', '4184053.200408091.female.15.txt', '4185590.200408090.female.34.txt', '4185590.200408100.female.34.txt', '4186235.200408090.female.17.txt', '4186235.200408110.female.17.txt', '4186235.200408160.female.17.txt', '4191754.200408100.female.16.txt', '4191754.200408110.female.16.txt', '4191754.200408120.female.16.txt', '4199657.200408100.male.17.txt', '4206523.200408110.female.25.txt', '4206523.200408120.female.25.txt', '4211581.200408120.male.33.txt', '4211581.200408121.male.33.txt', '4211681.200408121.male.13.txt', '4211681.200408130.male.13.txt', '4216768.200408120.male.17.txt', '4216768.200408121.male.17.txt', '4216768.200408122.male.17.txt', '4217852.200408120.female.15.txt', '4217852.200408121.female.15.txt', '4220279.200408120.female.27.txt', '4220279.200408121.female.27.txt', '4220279.200408130.female.27.txt', '4224117.200408130.male.17.txt', '4224117.200408140.male.17.txt', '4225621.200408011.male.23.txt', '4225621.200408012.male.23.txt', '4225621.200408160.male.23.txt', '4227675.200408130.male.15.txt', '4227675.200408131.male.15.txt', '4227675.200408170.male.15.txt', '4231214.200408160.male.17.txt', '4231214.200408170.male.17.txt', '4231214.200408180.male.17.txt', '4231214.200408210.male.17.txt', '4231214.200408230.male.17.txt', '4232378.200408140.male.27.txt', '4232378.200408150.male.27.txt', '4234730.200408140.male.15.txt', '4234730.200408150.male.15.txt', '4236348.200408140.female.13.txt', '4236348.200408141.female.13.txt', '4236348.200408142.female.13.txt', '4236348.200408143.female.13.txt', '4236769.200408160.female.16.txt', '4238874.200408140.female.14.txt', '4239258.200408150.female.27.txt', '4239258.200408151.female.27.txt', '4239258.200408190.female.27.txt', '4243054.200408090.female.24.txt', '4244003.200408150.male.16.txt', '4244003.200408220.male.16.txt', '4246116.200408160.female.17.txt', '4248305.200408180.female.43.txt', '4251921.200408160.female.27.txt', '4251921.200408180.female.27.txt', '4251982.200408160.female.17.txt', '4253395.200408160.male.17.txt', '4253395.200408220.male.17.txt', '4253582.200408160.male.16.txt', '4253582.200408190.male.16.txt', '4253582.200408220.male.16.txt', '4259483.200408170.female.16.txt', '4260563.200408170.male.13.txt', '4260563.200408171.male.13.txt', '4260563.200408172.male.13.txt', '4260563.200408180.male.13.txt', '4260563.200408190.male.13.txt', '4260563.200408220.male.13.txt', '4263025.200408170.female.23.txt', '4263025.200408180.female.23.txt', '4266531.200408180.female.14.txt', '4272884.200408190.male.37.txt', '4272884.200408200.male.37.txt', '4274153.200408210.female.25.txt', '4274153.200408220.female.25.txt', '4274153.200408230.female.25.txt', '4277394.200408190.male.13.txt', '4284559.200408220.female.14.txt', '4284559.200408230.female.14.txt', '4284761.200408190.female.17.txt', '4284761.200408191.female.17.txt', '4284761.200408200.female.17.txt', '4284761.200408210.female.17.txt', '4284936.200408190.female.24.txt', '4286855.200408201.female.13.txt', '4286855.200408202.female.13.txt', '4286855.200408220.female.13.txt', '4286855.200408221.female.13.txt', '4286855.200408230.female.13.txt', '4286858.200408200.female.25.txt', '4286858.200408201.female.25.txt', '4286858.200408210.female.25.txt', '4288268.200408220.male.15.txt', '4288268.200408221.male.15.txt', '4288268.200408230.male.15.txt', '4288268.200408240.male.15.txt', '4290297.200408210.female.13.txt', '4291782.200408200.male.26.txt', '4291893.200408200.male.17.txt', '4291893.200408201.male.17.txt', '4292549.200408200.female.15.txt', '4292549.200408201.female.15.txt', '4293476.200408200.female.34.txt', '4297657.200408210.male.23.txt', '4297657.200408211.male.23.txt', '4297657.200408230.male.23.txt', '4299687.200408230.male.23.txt', '4299687.200408240.male.23.txt', '4300289.200408210.male.25.txt', '4300289.200408211.male.25.txt', '4300289.200408212.male.25.txt', '4300289.200408220.male.25.txt', '4300289.200408222.male.25.txt', '4300554.200408210.female.17.txt', '4300554.200408220.female.17.txt', '4300554.200408230.female.17.txt', '4301179.200408210.female.16.txt', '4301179.200408211.female.16.txt', '4301678.200408210.male.24.txt', '4301757.200408210.female.26.txt', '4301757.200408220.female.26.txt', '4301757.200408240.female.26.txt', '4306736.200408220.female.26.txt', '4309186.200408220.female.15.txt', '4309186.200408221.female.15.txt', '4309493.200408220.female.27.txt', '4309493.200408230.female.27.txt', '4312634.200408220.female.17.txt', '4312634.200408230.female.17.txt', '4313487.200408220.male.26.txt', '4313692.200408230.female.13.txt', '4315526.200408230.female.33.txt', '4315526.200408240.female.33.txt', '4316835.200408240.female.14.txt', '4317220.200408230.female.16.txt', '4317220.200408240.female.16.txt', '4317294.200408230.male.17.txt', '4317294.200408231.male.17.txt', '4317294.200408240.male.17.txt', '4320317.200408230.female.14.txt', '4320585.200408230.male.15.txt', '4320585.200408240.male.15.txt', '4321351.200408230.male.16.txt', '4321351.200408240.male.16.txt', '4322009.200408230.male.15.txt', '4322009.200408240.male.15.txt', '4322085.200408231.male.15.txt', '4322085.200408240.male.15.txt', '4322085.200408241.male.15.txt', '4323865.200408230.female.33.txt', '4323865.200408240.female.33.txt', '4323930.200408230.male.16.txt', '4323930.200408231.male.16.txt', '4326637.200408240.female.25.txt', '4328764.200408240.female.38.txt', '4328764.200408241.female.38.txt', '4329583.200408240.male.23.txt', '4329583.200408241.male.23.txt', '4329583.200408242.male.23.txt', '4329583.200408243.male.23.txt', '4332271.200408240.male.23.txt', '4333070.200408240.male.17.txt', '4336651.000000000.female.25.txt', '4336871.000000000.male.17.txt', '43ketchup.txt', '55joe.txt', '584768.200405240.male.15.txt', '584768.200405241.male.15.txt', '584768.200405260.male.15.txt', 'aayushisharma1234.txt', 'ABA3A.txt', 'Abdetize.txt', 'absent_sire.txt', 'acalitama.txt', 'acj2009.txt', 'adynamischesgefuege.txt', 'ailicearyam.txt', 'Airvian.txt', 'aisling_x.txt', 'ajbissc.txt', 'alday23.txt', 'AletaXYZ.txt', 'alexrh96.txt', 'amaeday.txt', 'andyforever7.txt', 'anime_niac.txt', 'Annoyamous111.txt', 'anonymous_d12.txt', 'Apachethenegus.txt', 'Applebee334.txt', 'applejuice898989.txt', 'Aqestano.txt', 'ArashiKaji.txt', 'Arisola1998.txt', 'arkhamCeety.txt', 'artnos.txt', 'ashkaka.txt', 'askmartaj.txt', 'ATiredChromosome.txt', 'AvatarYangChen5.txt', 'badtofuu.txt', 'bbshokx.txt', 'BD7789.txt', 'beachhun18.txt', 'Bean_A21.txt', 'BeatToTheMusic.txt', 'BeautifulSweetDream.txt', 'bibs93.txt', 'bii97.txt', 'BitterGlitterLady.txt', 'BlackWolf294.txt', 'Blahblahblah20182017.txt', 'Blkgirl87.txt', 'bloggingbitface.txt', 'bluediamondgal.txt', 'BlueGuy123412.txt', 'bluesurg88.txt', 'BlushingBride603.txt', 'bongthanthoai.txt', 'Boobietrap_throwaway.txt', 'boopedya.txt', 'braincalmer.txt', 'Breesasha.txt', 'BrokenFriendship2018.txt', 'Brungala.txt', 'Btenjamin.txt', 'bud_dwyer2.txt', 'CalmInvestment.txt', 'Candycane_fairyy.txt', 'candy_bombs.txt', 'Captain_Shrug.txt', 'carlykerfuffle.txt', 'cccakes74.txt', 'chakana0.txt', 'ChanelMozach.txt', 'ChaolanLin.txt', 'charmishgirl.txt', 'ChaseIsWhoIWant.txt', 'Chatahoochee.txt', 'ChilliMcChill.txt', 'Chinareyes.txt', 'chocolateball.txt', 'ciel-phatomruche.txt', 'cimaez.txt', 'Clearfein.txt', 'CloneUnruhe.txt', 'Clove9241.txt', 'Cody2Hottie.txt', 'coglady.txt', 'confusedthinker123.txt', 'Coolheads90.txt', 'Coonioby.txt', 'CrazyCoKids.txt', 'Creenburg.txt', 'Creepersaurus.txt', 'Crimsonanngel.txt', 'crunchykittenroll.txt', 'crystal_stars.txt', 'CuriousPasqueflower.txt', 'customerservicevoice.txt', 'cutthroatzuckerberg.txt', 'd96x.txt', 'DaCyberEagle.txt', 'dadistwisted.txt', 'DaniLee124.txt', 'DAran67.txt', 'deca300.txt', 'Delayandrelay.txt', 'DemonicAsteroid.txt', 'derrarh.txt', 'digibrain.txt', 'dirtyvet2727.txt', 'Dirt_Runner.txt', 'discardaname.txt', 'distressedjeans.txt', 'Diva03.txt', 'DocBak1.txt', 'dogsandcats0123.txt', 'Dolphin1777.txt', 'DomAndStormy.txt', 'dotingle1993.txt', 'dpy87.txt', 'dsnysthelizardking.txt', 'dumplingthrway.txt', 'dungeonducky123.txt', 'dushyant009.txt', 'DzDeKuNuTz.txt', 'E46M54.txt', 'eatmynads.txt', 'EducationalBeyond.txt', 'egarciarascon.txt', 'Egritte.txt', 'Electra101.txt', 'elksaremagic.txt', 'ellab22.txt', 'el_ibrahiim.txt', 'Ema140.txt', 'EmotionalWrap.txt', 'epdl12345.txt', 'Fake_Baby.txt', 'familiasupertramp.txt', 'FaxMlores.txt', 'ferdous12345.txt', 'fingers714.txt', 'FlowerCrown123.txt', 'flyawayboi.txt', 'foodietg.txt', 'Football401.txt', 'ForTheGirlzzz.txt', 'fortunamajor1639.txt', 'Foxy76574.txt', 'Fperkin2.txt', 'friendshipbootcamp.txt', 'FromGhettoToFabulous.txt', 'FuckItThePolice.txt', 'gamut2376.txt', 'ged12345.txt', 'Gherico70.txt', 'gifyouup.txt', 'GijsEclipse.txt', 'Giwrgos_L.txt', 'glenngalea.txt', 'GMUpregnancyStudy.txt', 'GoneInTheWind20-02.txt', 'goughjustin.txt', 'grannykimchi.txt', 'Granstream.txt', 'green-yoyo.txt', 'Greenjets.txt', 'greenvelvetsheen.txt', 'GrittyBraces.txt', 'gtal0818.txt', 'guest7951120.txt', 'gunsnrosesforever.txt', 'hammerfan12.txt', 'helpneeded3758694.txt', 'Help_Me_Reddit01.txt', 'heyder225.txt', 'heyrainyday.txt', 'hhj29.txt', 'hippitt.txt', 'hipsterdannyphantom.txt', 'hopefulwanderer530.txt', 'hopelessbrokensoul.txt', 'hummingbird423.txt', 'Ibanezcollector.txt', 'iCanAndiWill7.txt', 'ideal_thickness.txt', 'iki4life.txt', 'ILikePizzaAndPie2002.txt', 'IMDTX.txt', 'imfeelingbetrayed.txt', 'ImpressiveButterfly2.txt', 'IndependentSurround.txt', 'indian_life_girl_25.txt', 'IneptSocializer.txt', 'infpproblems.txt', 'Inherbubble.txt', 'iridescentt_.txt', 'IsabelaMaria.txt', 'Its_Jairudius.txt', 'its_lisa_.txt', 'jadedlostsoul.txt', 'Jallyn24.txt', 'James5994.txt', 'jane8630.txt', 'jar_of_hearts123.txt', 'jashish105.txt', 'jasmarie98.txt', 'jaymon79.txt', 'jcvibes.txt', 'jendiaz9732.txt', 'jeremyolar.txt', 'Jerlmnop.txt', 'jimijobob.txt', 'jjbeanface.txt', 'jjspacecat10.txt', 'jkim9974.txt', 'jlee543.txt', 'joe_momma12.txt', 'JohnnyXDukey.txt', 'Jojo-ffm.txt', 'jokemuss.txt', 'joubertlawoffice.txt', 'JoyfulAmity.txt', 'jr_cameron.txt', 'JS5551212.txt', 'Jugga_Lady.txt', 'julster4686.txt', 'junnaquack.txt', 'j_m_mac.txt', 'kabanaa.txt', 'KariF121.txt', 'KatKatrinaKat.txt', 'KaylaYvonne.txt', 'kellysunset.txt', 'KevinFuentes.txt', 'khajiitthowaway.txt', 'Killuminati523.txt', 'kissndMAKEUP.txt', 'kittybarff.txt', 'Kmar92.txt', 'Konradwolf.txt', 'korg-says.txt', 'kqpt.txt', 'kumshyd.txt', 'Kylonce.txt', 'Lachaca02.txt', 'LadyMofScotland.txt', 'LadyPhoe.txt', 'langalango.txt', 'laylathealpaca.txt', 'LesThePinapple.txt', 'lexafrex.txt', 'lexx_needles.txt', 'libertygrace323.txt', 'Lifebythewindow.txt', 'LifeIsShittyAF.txt', 'lisaberlinx.txt', 'Littlelionlady92.txt', 'LittleManKC.txt', 'LiviLovegood.txt', 'Lo2109.txt', 'lolita157.txt', 'London1406.txt', 'Loonaluvgood420.txt', 'louisrat.txt', 'LoveMyAngelBoys.txt', 'lowkeyalchemy.txt', 'LowRelative.txt', 'lucauu.txt', 'lucylululemon.txt', 'LudacrisMargrine.txt', 'MadameUnskrewed.txt', 'madeinapinch.txt', 'madrugada17.txt', 'magn0la.txt', 'Mahkbin.txt', 'make-shift.txt', 'manwithnoshoes.txt', 'Mari0798.txt', 'mariadelmar_00.txt', 'Mariahp195.txt', 'marie-mariahh.txt', 'MarihuanaKonoplja.txt', 'marimato.txt', 'mataofficial.txt', 'mbudwomen2.txt', 'mckaythomas10.txt', 'McRedditerFace.txt', 'meghanfalls.txt', 'megles7187.txt', 'meishku07.txt', 'meptep.txt', 'miakey1997.txt', 'MichFrt.txt', 'mightypenguin82.txt', 'mikey_7869.txt', 'Mindblown90.txt', 'Mineops96699.txt', 'Minimun.txt', 'miperez711.txt', 'misfitwashere.txt', 'mishtersmiley.txt', 'mj6578.txt', 'mjber.txt', 'mkrskaa.txt', 'MLL159.txt', 'momyoucantzoomin.txt', 'MONALOVE050714.txt', 'Monchomozli.txt', 'MonicaAshley845.txt', 'monodemic.txt', 'moonlightair.txt', 'mooserise.txt', 'mousesmouse.txt', 'MrsMorales.txt', 'MrsNacho8000.txt', 'Mr_Fedora_Guy.txt', 'MsAntisocial.txt', 'mtgo02987.txt', 'mushroompizza1.txt', 'Mzjessicaxo.txt', 'nacthtkniver.txt', 'nanduvivek1990.txt', 'Naruakira21.txt', 'natteyice.txt', 'NdN124.txt', 'Necr0lord.txt', 'neksynsi.txt', 'nerognine.txt', 'nervesof.txt', 'nightection.txt', 'Nikocir.txt', 'nintendofan10039.txt', 'Nirmado.txt', 'notabot332.txt', 'Notmyclubpenguin.txt', 'novigradsorceress.txt', 'NubianLotus.txt', 'nuevoarmoredsaint.txt', 'NyaAndersonsLies.txt', 'NYCTwinMum.txt', 'nzurimalkia3.txt', 'Ocnarff.txt', 'OkPlant.txt', 'onecomesbeforetwo.txt', 'Oneofthevindicators.txt', 'Onlineperson1456.txt', 'onthesamestreets.txt', 'Oops1998.txt', 'oricoorico.txt', 'oscarkoppe.txt', 'ostinatoritornello.txt', 'P3aches24.txt', 'palmtreebreezes.txt', 'Paperbaggo.txt', 'pardeeprounta.txt', 'pastel_abomination.txt', 'patssister1960.txt', 'Paulypauly12.txt', 'pecan76.txt', 'phiexox.txt', 'pinamariana.txt', 'PinkSatin33.txt', 'pixelcola1.txt', 'PizzaBlvd.txt', 'PleaseImmortal.txt', 'Pleasuremann.txt', 'Plethora77.txt', 'Pm_Me_UR_TiTTiEs-pLZ.txt', 'Pogostickk.txt', 'polmanxd.txt', 'PomPampino.txt', 'ppppptemp.txt', 'PrimordiaI.txt', 'Prince_1997.txt', 'ProfessionalFruit.txt', 'ProfessorPibb.txt', 'Proserpina2.txt', 'provoqate.txt', 'Pumpkinp0calypse.txt', 'quietppb.txt', 'rabbitholeisgone.txt', 'Rackal10210.txt', 'rageinatinybody.txt', 'rainesandpours.txt', 'ravenfeather1234.txt', 'RAWKINGSIZEPAPER.txt', 'RDuser123456789.txt', 'rebelcka.txt', 'redpigs.txt', 'reneejoiner.txt', 'renewreborn.txt', 'ReyRoyWealth.txt', 'rhett21.txt', 'rhymetoots.txt', 'rladldus05.txt', 'robertc79.txt', 'Robotcatxy.txt', 'RockerBabi.txt', 'roe987.txt', 'roman_ingram_.txt', 'Rosesarecool.txt', 'runnernotafighter.txt', 'RunningKago.txt', 'runnjnginheels.txt', 'RusskiyDurak.txt', 'rusting-slowly.txt', 'Ryan11222111.txt', 's4mie.txt', 'sacto_verita.txt', 'sadiejunior.txt', 'sadnaruto.txt', 'saimguptagkp.txt', 'SaitamasFist1994.txt', 'SamanthaGIjoe.txt', 'samnitai.txt', 'Sanchez2093.txt', 'saneramz.txt', 'sapphireshaze.txt', 'sar442.txt', 'sarahhhhh88.txt', 'sarahinthesky048.txt', 'sarathomas24.txt', 'sara_2121.txt', 'savagej68.txt', 'SchoolBoyQ43.txt', 'Scot-in-London.txt', 'seekingpeace01.txt', 'SeeWithYourHeart.txt', 'Selahe1998.txt', 'Seligordjvison.txt', 'SensitiveBugGirl.txt', 'SexySnakeLadyCastle.txt', 'sgy3j.txt', 'SG_51.txt', 'shadoweon.txt', 'Shadowraid5.txt', 'shaychan.txt', 'SilentTears0.txt', 'sillybilly97.txt', 'SimmonsStudy.txt', 'Simplyjessrt.txt', 'SistaSaline.txt', 'sleepymommy925.txt', 'Slumdoghero.txt', 'smalls_17.txt', 'smilerlollie.txt', 'smiles-like-sunshine.txt', 'smoofsmooff.txt', 'Smoulder2.txt', 'Soccer1125.txt', 'Socialmutation.txt', 'sock-monster.txt', 'Solostrn.txt', 'SophieWhitelaw.txt', 'soxy123.txt', 'SpectacularDutchman.txt', 'squi007.txt', 'stargirl165.txt', 'stayincurly.txt', 'Steph_Ponche.txt', 'stepmomnomore.txt', 'stole-n.txt', 'Suca2801.txt', 'SucculentKontol.txt', 'SugarMa.txt', 'superbhuboutreach.txt', 'Syfusion.txt', 'tabatha_hazel.txt', 'Taliskerbowmore.txt', 'TalkingSink.txt', 'Talomir.txt', 'TapoutKing666.txt', 'tbgxspirit.txt', 'TCW003.txt', 'TeaMarieArt.txt', 'TechnoPhoneix54.txt', 'techsavvynerd91.txt', 'TeenageWereGarurumon.txt', 'ThatNameIsTaken35.txt', 'theisolated2ndlaw.txt', 'theMNG.txt', 'TheSCP096.txt', 'TheStripeWhites.txt', 'thr0wMeAway5.txt', 'throwaway183274.txt', 'Throwaway_sibling_is.txt', 'throwinthelawn.txt', 'tigerdingo.txt', 'tilsomanythings.txt', 'Timeaa.txt', 'TiyeQueenWriter.txt', 'Tom36456.txt', 'Tomtomtomto.txt', 'tra123456.txt', 'trashdemon_.txt', 'tripleh3lix25.txt', 'true_faith31.txt', 'Trumpeachment.txt', 'tsundokuprincess.txt', 'TumbleAllTheWay.txt', 'tweedle_bum.txt', 'twentydoggies.txt', 'twentytwopuppies.txt', 'TwinEwe93.txt', 'twoodfill.txt', 'tylarius.txt', 'TypicalToe.txt', 'ucdfamilyresearch.txt', 'uhohhnope.txt', 'ulisesheureaux.txt', 'UltraFly74.txt', 'UnknownDude007.txt', 'upsetmommy3243.txt', 'urheartispure.txt', 'user249578.txt', 'VersaillesnoBara.txt', 'Vonnae.txt', 'waheifilmguy.txt', 'wanderingtrance.txt', 'warmwinter17.txt', 'Wenskop.txt', 'Westernboy93.txt', 'WhiteFang4003.txt', 'WNCaptain.txt', 'Woodscraps.txt', 'woohoo-77.txt', 'xAC3777x.txt', 'xalvx.txt', 'Xboxdude52.txt', 'XfapeedX.txt', 'x_Omni.txt', 'Yobymmas13.txt', 'yonathanfisher.txt', 'yourfaceherenow.txt', 'YsAtNaF996.txt', 'ZCYCS.txt', 'ZealousidealOpinion.txt', '[deleted].txt', '_3dd3_.txt', '_alex87.txt', '_o3n3o_.txt', '_UncleRuckus_.txt', '__nopls__.txt']\n"
     ]
    },
    {
     "data": {
      "text/plain": [
       "1481"
      ]
     },
     "execution_count": 26,
     "metadata": {},
     "output_type": "execute_result"
    }
   ],
   "source": [
    "# get the list of text file names\n",
    "print(os.listdir(DATA_N))\n",
    "len(os.listdir(DATA_N))"
   ]
  },
  {
   "cell_type": "code",
   "execution_count": null,
   "id": "eeabba25",
   "metadata": {},
   "outputs": [],
   "source": []
  },
  {
   "cell_type": "code",
   "execution_count": 45,
   "id": "58cd3d62",
   "metadata": {},
   "outputs": [
    {
     "name": "stderr",
     "output_type": "stream",
     "text": [
      "100%|████████████████████████████████████████████████████████████████████████████| 1683/1683 [00:00<00:00, 3978.45it/s]\n"
     ]
    },
    {
     "data": {
      "text/plain": [
       "1437"
      ]
     },
     "execution_count": 45,
     "metadata": {},
     "output_type": "execute_result"
    }
   ],
   "source": [
    "# save all the depressed text in a dataframe\n",
    "depressed_list = []\n",
    "\n",
    "for i in tqdm(os.listdir(DATA_Y)):\n",
    "    with open(DATA_Y + i, encoding=\"utf8\") as f:\n",
    "        contents = f.read()\n",
    "        contents = contents.replace('\\n',' ')\n",
    "        # only save those data with more than 50 words\n",
    "        if(len(re.findall(r'\\w+', contents)) >= 50):\n",
    "            depressed_list.append(contents)\n",
    "len(depressed_list)"
   ]
  },
  {
   "cell_type": "code",
   "execution_count": 48,
   "id": "085c370e",
   "metadata": {},
   "outputs": [
    {
     "data": {
      "text/html": [
       "<div>\n",
       "<style scoped>\n",
       "    .dataframe tbody tr th:only-of-type {\n",
       "        vertical-align: middle;\n",
       "    }\n",
       "\n",
       "    .dataframe tbody tr th {\n",
       "        vertical-align: top;\n",
       "    }\n",
       "\n",
       "    .dataframe thead th {\n",
       "        text-align: right;\n",
       "    }\n",
       "</style>\n",
       "<table border=\"1\" class=\"dataframe\">\n",
       "  <thead>\n",
       "    <tr style=\"text-align: right;\">\n",
       "      <th></th>\n",
       "      <th>Text</th>\n",
       "      <th>Label</th>\n",
       "    </tr>\n",
       "  </thead>\n",
       "  <tbody>\n",
       "    <tr>\n",
       "      <th>0</th>\n",
       "      <td>Just another night. Another night of feeling l...</td>\n",
       "      <td>1</td>\n",
       "    </tr>\n",
       "    <tr>\n",
       "      <th>1</th>\n",
       "      <td>Is it possible to fake depression? I have been...</td>\n",
       "      <td>1</td>\n",
       "    </tr>\n",
       "    <tr>\n",
       "      <th>2</th>\n",
       "      <td>Imagine being attractive Imagine what it would...</td>\n",
       "      <td>1</td>\n",
       "    </tr>\n",
       "    <tr>\n",
       "      <th>3</th>\n",
       "      <td>Best moment to have anxiety It's 3:30am, I'm t...</td>\n",
       "      <td>1</td>\n",
       "    </tr>\n",
       "    <tr>\n",
       "      <th>4</th>\n",
       "      <td>hi, I'm a 21 year-old male from the uk, over t...</td>\n",
       "      <td>1</td>\n",
       "    </tr>\n",
       "    <tr>\n",
       "      <th>...</th>\n",
       "      <td>...</td>\n",
       "      <td>...</td>\n",
       "    </tr>\n",
       "    <tr>\n",
       "      <th>1432</th>\n",
       "      <td>I never asked to be born...seems unfair we can...</td>\n",
       "      <td>1</td>\n",
       "    </tr>\n",
       "    <tr>\n",
       "      <th>1433</th>\n",
       "      <td>I hate the way I look I've pretty much always ...</td>\n",
       "      <td>1</td>\n",
       "    </tr>\n",
       "    <tr>\n",
       "      <th>1434</th>\n",
       "      <td>Anyone else feel guilty about people checking ...</td>\n",
       "      <td>1</td>\n",
       "    </tr>\n",
       "    <tr>\n",
       "      <th>1435</th>\n",
       "      <td>Need help with suicidal wife, please. My wife ...</td>\n",
       "      <td>1</td>\n",
       "    </tr>\n",
       "    <tr>\n",
       "      <th>1436</th>\n",
       "      <td>Im a mess and I need to rant. Every so often, ...</td>\n",
       "      <td>1</td>\n",
       "    </tr>\n",
       "  </tbody>\n",
       "</table>\n",
       "<p>1437 rows × 2 columns</p>\n",
       "</div>"
      ],
      "text/plain": [
       "                                                   Text  Label\n",
       "0     Just another night. Another night of feeling l...      1\n",
       "1     Is it possible to fake depression? I have been...      1\n",
       "2     Imagine being attractive Imagine what it would...      1\n",
       "3     Best moment to have anxiety It's 3:30am, I'm t...      1\n",
       "4     hi, I'm a 21 year-old male from the uk, over t...      1\n",
       "...                                                 ...    ...\n",
       "1432  I never asked to be born...seems unfair we can...      1\n",
       "1433  I hate the way I look I've pretty much always ...      1\n",
       "1434  Anyone else feel guilty about people checking ...      1\n",
       "1435  Need help with suicidal wife, please. My wife ...      1\n",
       "1436  Im a mess and I need to rant. Every so often, ...      1\n",
       "\n",
       "[1437 rows x 2 columns]"
      ]
     },
     "execution_count": 48,
     "metadata": {},
     "output_type": "execute_result"
    }
   ],
   "source": [
    "# convert the depressed list into pandas dataframe\n",
    "depressed_df = pd.DataFrame(depressed_list, columns=['Text'])\n",
    "# append 1 to show depressive text\n",
    "depressed_df['Label'] = 1\n",
    "depressed_df"
   ]
  },
  {
   "cell_type": "code",
   "execution_count": null,
   "id": "e7e91ae6",
   "metadata": {},
   "outputs": [],
   "source": []
  },
  {
   "cell_type": "code",
   "execution_count": 49,
   "id": "ad542768",
   "metadata": {},
   "outputs": [
    {
     "name": "stderr",
     "output_type": "stream",
     "text": [
      "100%|█████████████████████████████████████████████████████████████████████████████| 1481/1481 [00:07<00:00, 203.41it/s]\n"
     ]
    },
    {
     "data": {
      "text/plain": [
       "1292"
      ]
     },
     "execution_count": 49,
     "metadata": {},
     "output_type": "execute_result"
    }
   ],
   "source": [
    "# likewise do the same for the non-depressive text\n",
    "non_depressed_list = []\n",
    "\n",
    "for i in tqdm(os.listdir(DATA_N)):\n",
    "    with open(DATA_N + i, encoding=\"utf8\") as f:\n",
    "        contents = f.read()\n",
    "        contents = contents.replace('\\n',' ')\n",
    "        # only save those data with more than 50 words\n",
    "        if(len(re.findall(r'\\w+', contents)) >= 50):\n",
    "            non_depressed_list.append(contents)\n",
    "len(non_depressed_list)"
   ]
  },
  {
   "cell_type": "code",
   "execution_count": 50,
   "id": "0acf622f",
   "metadata": {},
   "outputs": [
    {
     "data": {
      "text/html": [
       "<div>\n",
       "<style scoped>\n",
       "    .dataframe tbody tr th:only-of-type {\n",
       "        vertical-align: middle;\n",
       "    }\n",
       "\n",
       "    .dataframe tbody tr th {\n",
       "        vertical-align: top;\n",
       "    }\n",
       "\n",
       "    .dataframe thead th {\n",
       "        text-align: right;\n",
       "    }\n",
       "</style>\n",
       "<table border=\"1\" class=\"dataframe\">\n",
       "  <thead>\n",
       "    <tr style=\"text-align: right;\">\n",
       "      <th></th>\n",
       "      <th>Text</th>\n",
       "      <th>Label</th>\n",
       "    </tr>\n",
       "  </thead>\n",
       "  <tbody>\n",
       "    <tr>\n",
       "      <th>0</th>\n",
       "      <td>My male cousin stopped talking to me all of su...</td>\n",
       "      <td>0</td>\n",
       "    </tr>\n",
       "    <tr>\n",
       "      <th>1</th>\n",
       "      <td>Drifting away from my best friend My best frie...</td>\n",
       "      <td>0</td>\n",
       "    </tr>\n",
       "    <tr>\n",
       "      <th>2</th>\n",
       "      <td>You love me... I have you here by my side... ...</td>\n",
       "      <td>0</td>\n",
       "    </tr>\n",
       "    <tr>\n",
       "      <th>3</th>\n",
       "      <td>\"...Thanks to you now I know   all my dreams ...</td>\n",
       "      <td>0</td>\n",
       "    </tr>\n",
       "    <tr>\n",
       "      <th>4</th>\n",
       "      <td>The divorce talk The wife and I have had a ver...</td>\n",
       "      <td>0</td>\n",
       "    </tr>\n",
       "    <tr>\n",
       "      <th>...</th>\n",
       "      <td>...</td>\n",
       "      <td>...</td>\n",
       "    </tr>\n",
       "    <tr>\n",
       "      <th>1287</th>\n",
       "      <td>I hate my mum I dislike my mum. In fact, I’m d...</td>\n",
       "      <td>0</td>\n",
       "    </tr>\n",
       "    <tr>\n",
       "      <th>1288</th>\n",
       "      <td>Me and my brother cannot stop fighting This is...</td>\n",
       "      <td>0</td>\n",
       "    </tr>\n",
       "    <tr>\n",
       "      <th>1289</th>\n",
       "      <td>Pissed at my wife and mother in law We are new...</td>\n",
       "      <td>0</td>\n",
       "    </tr>\n",
       "    <tr>\n",
       "      <th>1290</th>\n",
       "      <td>The Glory Hole, a fun group of friends on Disc...</td>\n",
       "      <td>0</td>\n",
       "    </tr>\n",
       "    <tr>\n",
       "      <th>1291</th>\n",
       "      <td>Is he justified for being so mad ?? Thoughts o...</td>\n",
       "      <td>0</td>\n",
       "    </tr>\n",
       "  </tbody>\n",
       "</table>\n",
       "<p>1292 rows × 2 columns</p>\n",
       "</div>"
      ],
      "text/plain": [
       "                                                   Text  Label\n",
       "0     My male cousin stopped talking to me all of su...      0\n",
       "1     Drifting away from my best friend My best frie...      0\n",
       "2      You love me... I have you here by my side... ...      0\n",
       "3      \"...Thanks to you now I know   all my dreams ...      0\n",
       "4     The divorce talk The wife and I have had a ver...      0\n",
       "...                                                 ...    ...\n",
       "1287  I hate my mum I dislike my mum. In fact, I’m d...      0\n",
       "1288  Me and my brother cannot stop fighting This is...      0\n",
       "1289  Pissed at my wife and mother in law We are new...      0\n",
       "1290  The Glory Hole, a fun group of friends on Disc...      0\n",
       "1291  Is he justified for being so mad ?? Thoughts o...      0\n",
       "\n",
       "[1292 rows x 2 columns]"
      ]
     },
     "execution_count": 50,
     "metadata": {},
     "output_type": "execute_result"
    }
   ],
   "source": [
    "# convert the non-depressed list into pandas dataframe\n",
    "non_depressed_df = pd.DataFrame(non_depressed_list, columns=['Text'])\n",
    "# append 1 to show depressive text\n",
    "non_depressed_df['Label'] = 0\n",
    "non_depressed_df"
   ]
  },
  {
   "cell_type": "code",
   "execution_count": null,
   "id": "8f657e9e",
   "metadata": {},
   "outputs": [],
   "source": []
  },
  {
   "cell_type": "code",
   "execution_count": 53,
   "id": "c2c8e766",
   "metadata": {},
   "outputs": [
    {
     "data": {
      "text/html": [
       "<div>\n",
       "<style scoped>\n",
       "    .dataframe tbody tr th:only-of-type {\n",
       "        vertical-align: middle;\n",
       "    }\n",
       "\n",
       "    .dataframe tbody tr th {\n",
       "        vertical-align: top;\n",
       "    }\n",
       "\n",
       "    .dataframe thead th {\n",
       "        text-align: right;\n",
       "    }\n",
       "</style>\n",
       "<table border=\"1\" class=\"dataframe\">\n",
       "  <thead>\n",
       "    <tr style=\"text-align: right;\">\n",
       "      <th></th>\n",
       "      <th>Text</th>\n",
       "      <th>Label</th>\n",
       "    </tr>\n",
       "  </thead>\n",
       "  <tbody>\n",
       "    <tr>\n",
       "      <th>0</th>\n",
       "      <td>Just another night. Another night of feeling l...</td>\n",
       "      <td>1</td>\n",
       "    </tr>\n",
       "    <tr>\n",
       "      <th>1</th>\n",
       "      <td>Is it possible to fake depression? I have been...</td>\n",
       "      <td>1</td>\n",
       "    </tr>\n",
       "    <tr>\n",
       "      <th>2</th>\n",
       "      <td>Imagine being attractive Imagine what it would...</td>\n",
       "      <td>1</td>\n",
       "    </tr>\n",
       "    <tr>\n",
       "      <th>3</th>\n",
       "      <td>Best moment to have anxiety It's 3:30am, I'm t...</td>\n",
       "      <td>1</td>\n",
       "    </tr>\n",
       "    <tr>\n",
       "      <th>4</th>\n",
       "      <td>hi, I'm a 21 year-old male from the uk, over t...</td>\n",
       "      <td>1</td>\n",
       "    </tr>\n",
       "    <tr>\n",
       "      <th>...</th>\n",
       "      <td>...</td>\n",
       "      <td>...</td>\n",
       "    </tr>\n",
       "    <tr>\n",
       "      <th>1287</th>\n",
       "      <td>I hate my mum I dislike my mum. In fact, I’m d...</td>\n",
       "      <td>0</td>\n",
       "    </tr>\n",
       "    <tr>\n",
       "      <th>1288</th>\n",
       "      <td>Me and my brother cannot stop fighting This is...</td>\n",
       "      <td>0</td>\n",
       "    </tr>\n",
       "    <tr>\n",
       "      <th>1289</th>\n",
       "      <td>Pissed at my wife and mother in law We are new...</td>\n",
       "      <td>0</td>\n",
       "    </tr>\n",
       "    <tr>\n",
       "      <th>1290</th>\n",
       "      <td>The Glory Hole, a fun group of friends on Disc...</td>\n",
       "      <td>0</td>\n",
       "    </tr>\n",
       "    <tr>\n",
       "      <th>1291</th>\n",
       "      <td>Is he justified for being so mad ?? Thoughts o...</td>\n",
       "      <td>0</td>\n",
       "    </tr>\n",
       "  </tbody>\n",
       "</table>\n",
       "<p>2729 rows × 2 columns</p>\n",
       "</div>"
      ],
      "text/plain": [
       "                                                   Text  Label\n",
       "0     Just another night. Another night of feeling l...      1\n",
       "1     Is it possible to fake depression? I have been...      1\n",
       "2     Imagine being attractive Imagine what it would...      1\n",
       "3     Best moment to have anxiety It's 3:30am, I'm t...      1\n",
       "4     hi, I'm a 21 year-old male from the uk, over t...      1\n",
       "...                                                 ...    ...\n",
       "1287  I hate my mum I dislike my mum. In fact, I’m d...      0\n",
       "1288  Me and my brother cannot stop fighting This is...      0\n",
       "1289  Pissed at my wife and mother in law We are new...      0\n",
       "1290  The Glory Hole, a fun group of friends on Disc...      0\n",
       "1291  Is he justified for being so mad ?? Thoughts o...      0\n",
       "\n",
       "[2729 rows x 2 columns]"
      ]
     },
     "execution_count": 53,
     "metadata": {},
     "output_type": "execute_result"
    }
   ],
   "source": [
    "# merge the 2 dataframes into a dataframe\n",
    "main_df = pd.concat([depressed_df, non_depressed_df])\n",
    "main_df"
   ]
  },
  {
   "cell_type": "code",
   "execution_count": 54,
   "id": "3d88dea2",
   "metadata": {},
   "outputs": [
    {
     "data": {
      "text/html": [
       "<div>\n",
       "<style scoped>\n",
       "    .dataframe tbody tr th:only-of-type {\n",
       "        vertical-align: middle;\n",
       "    }\n",
       "\n",
       "    .dataframe tbody tr th {\n",
       "        vertical-align: top;\n",
       "    }\n",
       "\n",
       "    .dataframe thead th {\n",
       "        text-align: right;\n",
       "    }\n",
       "</style>\n",
       "<table border=\"1\" class=\"dataframe\">\n",
       "  <thead>\n",
       "    <tr style=\"text-align: right;\">\n",
       "      <th></th>\n",
       "      <th>Text</th>\n",
       "      <th>Label</th>\n",
       "    </tr>\n",
       "  </thead>\n",
       "  <tbody>\n",
       "    <tr>\n",
       "      <th>0</th>\n",
       "      <td>Thoughts on multi-family and multi-generationa...</td>\n",
       "      <td>0</td>\n",
       "    </tr>\n",
       "    <tr>\n",
       "      <th>1</th>\n",
       "      <td>God \"God moves towards those who need him the ...</td>\n",
       "      <td>1</td>\n",
       "    </tr>\n",
       "    <tr>\n",
       "      <th>2</th>\n",
       "      <td>yah.sorry i didnt write anything in the past ...</td>\n",
       "      <td>0</td>\n",
       "    </tr>\n",
       "    <tr>\n",
       "      <th>3</th>\n",
       "      <td>I am a 40 year old mother of two; ages 14 and ...</td>\n",
       "      <td>1</td>\n",
       "    </tr>\n",
       "    <tr>\n",
       "      <th>4</th>\n",
       "      <td>I find myself hating birthdays and Christmas n...</td>\n",
       "      <td>1</td>\n",
       "    </tr>\n",
       "    <tr>\n",
       "      <th>...</th>\n",
       "      <td>...</td>\n",
       "      <td>...</td>\n",
       "    </tr>\n",
       "    <tr>\n",
       "      <th>2724</th>\n",
       "      <td>SUMMER SUCKS!  I know, I know...*my* opinion....</td>\n",
       "      <td>0</td>\n",
       "    </tr>\n",
       "    <tr>\n",
       "      <th>2725</th>\n",
       "      <td>i can’t sleep i’ve been planning for my suicid...</td>\n",
       "      <td>1</td>\n",
       "    </tr>\n",
       "    <tr>\n",
       "      <th>2726</th>\n",
       "      <td>How can I help my husband? My husband is an en...</td>\n",
       "      <td>0</td>\n",
       "    </tr>\n",
       "    <tr>\n",
       "      <th>2727</th>\n",
       "      <td>Dude I do the right thing to have my sister on...</td>\n",
       "      <td>0</td>\n",
       "    </tr>\n",
       "    <tr>\n",
       "      <th>2728</th>\n",
       "      <td>Why does it feel like I want to be depressed? ...</td>\n",
       "      <td>1</td>\n",
       "    </tr>\n",
       "  </tbody>\n",
       "</table>\n",
       "<p>2729 rows × 2 columns</p>\n",
       "</div>"
      ],
      "text/plain": [
       "                                                   Text  Label\n",
       "0     Thoughts on multi-family and multi-generationa...      0\n",
       "1     God \"God moves towards those who need him the ...      1\n",
       "2      yah.sorry i didnt write anything in the past ...      0\n",
       "3     I am a 40 year old mother of two; ages 14 and ...      1\n",
       "4     I find myself hating birthdays and Christmas n...      1\n",
       "...                                                 ...    ...\n",
       "2724   SUMMER SUCKS!  I know, I know...*my* opinion....      0\n",
       "2725  i can’t sleep i’ve been planning for my suicid...      1\n",
       "2726  How can I help my husband? My husband is an en...      0\n",
       "2727  Dude I do the right thing to have my sister on...      0\n",
       "2728  Why does it feel like I want to be depressed? ...      1\n",
       "\n",
       "[2729 rows x 2 columns]"
      ]
     },
     "execution_count": 54,
     "metadata": {},
     "output_type": "execute_result"
    }
   ],
   "source": [
    "# shuffle the data in the dataframe\n",
    "main_df = main_df.sample(frac=1).reset_index(drop=True)\n",
    "main_df"
   ]
  },
  {
   "cell_type": "code",
   "execution_count": 56,
   "id": "2b56aed3",
   "metadata": {},
   "outputs": [],
   "source": [
    "# save the dataframe into a csv\n",
    "main_df.to_csv('./data/long_text_combined.csv', index=False)"
   ]
  },
  {
   "cell_type": "code",
   "execution_count": null,
   "id": "06225c16",
   "metadata": {},
   "outputs": [],
   "source": []
  }
 ],
 "metadata": {
  "kernelspec": {
   "display_name": "Python 3",
   "language": "python",
   "name": "python3"
  },
  "language_info": {
   "codemirror_mode": {
    "name": "ipython",
    "version": 3
   },
   "file_extension": ".py",
   "mimetype": "text/x-python",
   "name": "python",
   "nbconvert_exporter": "python",
   "pygments_lexer": "ipython3",
   "version": "3.8.10"
  }
 },
 "nbformat": 4,
 "nbformat_minor": 5
}
