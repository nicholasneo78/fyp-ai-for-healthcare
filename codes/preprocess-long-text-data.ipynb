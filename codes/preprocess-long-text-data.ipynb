{
 "cells": [
  {
   "cell_type": "code",
   "execution_count": 2,
   "id": "55ad71bc",
   "metadata": {},
   "outputs": [],
   "source": [
    "import pandas as pd\n",
    "import numpy as np"
   ]
  },
  {
   "cell_type": "code",
   "execution_count": null,
   "id": "2ce7680e",
   "metadata": {},
   "outputs": [],
   "source": [
    "# root path to all the data files\n",
    "ROOT = './data/text_long_raw/'"
   ]
  },
  {
   "cell_type": "code",
   "execution_count": null,
   "id": "d1b54cdc",
   "metadata": {},
   "outputs": [],
   "source": [
    "# introduce file path constant\n",
    "BLOG_Y = ROOT + 'blogs_depression/'\n",
    "BLOG_N = ROOT + 'blogs_non_depression/'\n",
    "MIXED_Y = ROOT + 'blogs_depression/'\n",
    "BLOG_Y = ROOT + 'blogs_depression/'\n",
    "BLOG_Y = ROOT + 'blogs_depression/'\n",
    "BLOG_Y = ROOT + 'blogs_depression/'"
   ]
  },
  {
   "cell_type": "code",
   "execution_count": null,
   "id": "3963c48c",
   "metadata": {},
   "outputs": [],
   "source": [
    "# sample on reading one text file\n"
   ]
  }
 ],
 "metadata": {
  "kernelspec": {
   "display_name": "Python 3",
   "language": "python",
   "name": "python3"
  },
  "language_info": {
   "codemirror_mode": {
    "name": "ipython",
    "version": 3
   },
   "file_extension": ".py",
   "mimetype": "text/x-python",
   "name": "python",
   "nbconvert_exporter": "python",
   "pygments_lexer": "ipython3",
   "version": "3.8.10"
  }
 },
 "nbformat": 4,
 "nbformat_minor": 5
}
